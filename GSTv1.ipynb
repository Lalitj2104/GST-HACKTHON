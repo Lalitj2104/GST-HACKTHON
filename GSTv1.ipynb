{
    "cells": [
     {
      "cell_type": "markdown",
      "metadata": {},
      "source": [
       "Importing the necessary libraries"
      ]
     },
     {
      "cell_type": "code",
      "execution_count": 93,
      "metadata": {},
      "outputs": [],
      "source": [
       "import pandas as pd\n",
       "import numpy as np\n",
       "from sklearn.linear_model import LogisticRegression\n",
       "from sklearn.feature_extraction.text import HashingVectorizer\n",
       "import warnings\n",
       "warnings.filterwarnings('ignore')\n"
      ]
     },
     {
      "cell_type": "markdown",
      "metadata": {},
      "source": [
       "Reading the Training DataSet and printing the first five rows"
      ]
     },
     {
      "cell_type": "code",
      "execution_count": 94,
      "metadata": {},
      "outputs": [
       {
        "data": {
         "text/html": [
          "<div>\n",
          "<style scoped>\n",
          "    .dataframe tbody tr th:only-of-type {\n",
          "        vertical-align: middle;\n",
          "    }\n",
          "\n",
          "    .dataframe tbody tr th {\n",
          "        vertical-align: top;\n",
          "    }\n",
          "\n",
          "    .dataframe thead th {\n",
          "        text-align: right;\n",
          "    }\n",
          "</style>\n",
          "<table border=\"1\" class=\"dataframe\">\n",
          "  <thead>\n",
          "    <tr style=\"text-align: right;\">\n",
          "      <th></th>\n",
          "      <th>ID</th>\n",
          "      <th>Column0</th>\n",
          "      <th>Column1</th>\n",
          "      <th>Column2</th>\n",
          "      <th>Column3</th>\n",
          "      <th>Column4</th>\n",
          "      <th>Column5</th>\n",
          "      <th>Column6</th>\n",
          "      <th>Column7</th>\n",
          "      <th>Column8</th>\n",
          "      <th>...</th>\n",
          "      <th>Column12</th>\n",
          "      <th>Column13</th>\n",
          "      <th>Column14</th>\n",
          "      <th>Column15</th>\n",
          "      <th>Column16</th>\n",
          "      <th>Column17</th>\n",
          "      <th>Column18</th>\n",
          "      <th>Column19</th>\n",
          "      <th>Column20</th>\n",
          "      <th>Column21</th>\n",
          "    </tr>\n",
          "  </thead>\n",
          "  <tbody>\n",
          "    <tr>\n",
          "      <th>0</th>\n",
          "      <td>ad1a67e4cbddc767a3456b0d94299b9e</td>\n",
          "      <td>2.0</td>\n",
          "      <td>2495</td>\n",
          "      <td>3726.0</td>\n",
          "      <td>0.678139</td>\n",
          "      <td>0.701403</td>\n",
          "      <td>-0.007468</td>\n",
          "      <td>0.434190</td>\n",
          "      <td>-0.015603</td>\n",
          "      <td>0.606265</td>\n",
          "      <td>...</td>\n",
          "      <td>0</td>\n",
          "      <td>0</td>\n",
          "      <td>0.001351</td>\n",
          "      <td>0.00339</td>\n",
          "      <td>0.0</td>\n",
          "      <td>0</td>\n",
          "      <td>0.0</td>\n",
          "      <td>0</td>\n",
          "      <td>0</td>\n",
          "      <td>0</td>\n",
          "    </tr>\n",
          "    <tr>\n",
          "      <th>1</th>\n",
          "      <td>7246d2f76ac0c217ec25e72ea5f014cb</td>\n",
          "      <td>0.0</td>\n",
          "      <td>2495</td>\n",
          "      <td>3454.0</td>\n",
          "      <td>0.452580</td>\n",
          "      <td>0.701403</td>\n",
          "      <td>-0.007468</td>\n",
          "      <td>1.554998</td>\n",
          "      <td>-0.015574</td>\n",
          "      <td>0.329946</td>\n",
          "      <td>...</td>\n",
          "      <td>0</td>\n",
          "      <td>0</td>\n",
          "      <td>0.001351</td>\n",
          "      <td>0.00339</td>\n",
          "      <td>0.0</td>\n",
          "      <td>0</td>\n",
          "      <td>0.0</td>\n",
          "      <td>0</td>\n",
          "      <td>0</td>\n",
          "      <td>0</td>\n",
          "    </tr>\n",
          "    <tr>\n",
          "      <th>2</th>\n",
          "      <td>22ba388e7dd14c13342c49e75fc29dda</td>\n",
          "      <td>2.0</td>\n",
          "      <td>2495</td>\n",
          "      <td>4543.0</td>\n",
          "      <td>-1.577453</td>\n",
          "      <td>-1.429540</td>\n",
          "      <td>-0.007469</td>\n",
          "      <td>-0.407939</td>\n",
          "      <td>-0.015607</td>\n",
          "      <td>-0.774979</td>\n",
          "      <td>...</td>\n",
          "      <td>1</td>\n",
          "      <td>1</td>\n",
          "      <td>0.001351</td>\n",
          "      <td>0.00339</td>\n",
          "      <td>0.0</td>\n",
          "      <td>0</td>\n",
          "      <td>0.0</td>\n",
          "      <td>0</td>\n",
          "      <td>0</td>\n",
          "      <td>0</td>\n",
          "    </tr>\n",
          "    <tr>\n",
          "      <th>3</th>\n",
          "      <td>59f9b981472d97342587fb3e6392aeb1</td>\n",
          "      <td>0.0</td>\n",
          "      <td>211</td>\n",
          "      <td>59.0</td>\n",
          "      <td>NaN</td>\n",
          "      <td>NaN</td>\n",
          "      <td>NaN</td>\n",
          "      <td>-0.407939</td>\n",
          "      <td>-0.015607</td>\n",
          "      <td>-0.774979</td>\n",
          "      <td>...</td>\n",
          "      <td>0</td>\n",
          "      <td>0</td>\n",
          "      <td>NaN</td>\n",
          "      <td>0.00339</td>\n",
          "      <td>0.0</td>\n",
          "      <td>0</td>\n",
          "      <td>1.0</td>\n",
          "      <td>0</td>\n",
          "      <td>0</td>\n",
          "      <td>0</td>\n",
          "    </tr>\n",
          "    <tr>\n",
          "      <th>4</th>\n",
          "      <td>f6317cf7ecf126859804eddff279aead</td>\n",
          "      <td>0.0</td>\n",
          "      <td>718</td>\n",
          "      <td>950.0</td>\n",
          "      <td>-2.028572</td>\n",
          "      <td>-1.855728</td>\n",
          "      <td>NaN</td>\n",
          "      <td>-0.407939</td>\n",
          "      <td>-0.015607</td>\n",
          "      <td>-0.774979</td>\n",
          "      <td>...</td>\n",
          "      <td>0</td>\n",
          "      <td>0</td>\n",
          "      <td>NaN</td>\n",
          "      <td>0.00339</td>\n",
          "      <td>0.0</td>\n",
          "      <td>0</td>\n",
          "      <td>0.0</td>\n",
          "      <td>0</td>\n",
          "      <td>0</td>\n",
          "      <td>0</td>\n",
          "    </tr>\n",
          "  </tbody>\n",
          "</table>\n",
          "<p>5 rows × 23 columns</p>\n",
          "</div>"
         ],
         "text/plain": [
          "                                 ID  Column0  Column1  Column2   Column3  \\\n",
          "0  ad1a67e4cbddc767a3456b0d94299b9e      2.0     2495   3726.0  0.678139   \n",
          "1  7246d2f76ac0c217ec25e72ea5f014cb      0.0     2495   3454.0  0.452580   \n",
          "2  22ba388e7dd14c13342c49e75fc29dda      2.0     2495   4543.0 -1.577453   \n",
          "3  59f9b981472d97342587fb3e6392aeb1      0.0      211     59.0       NaN   \n",
          "4  f6317cf7ecf126859804eddff279aead      0.0      718    950.0 -2.028572   \n",
          "\n",
          "    Column4   Column5   Column6   Column7   Column8  ...  Column12  Column13  \\\n",
          "0  0.701403 -0.007468  0.434190 -0.015603  0.606265  ...         0         0   \n",
          "1  0.701403 -0.007468  1.554998 -0.015574  0.329946  ...         0         0   \n",
          "2 -1.429540 -0.007469 -0.407939 -0.015607 -0.774979  ...         1         1   \n",
          "3       NaN       NaN -0.407939 -0.015607 -0.774979  ...         0         0   \n",
          "4 -1.855728       NaN -0.407939 -0.015607 -0.774979  ...         0         0   \n",
          "\n",
          "   Column14  Column15  Column16  Column17  Column18  Column19  Column20  \\\n",
          "0  0.001351   0.00339       0.0         0       0.0         0         0   \n",
          "1  0.001351   0.00339       0.0         0       0.0         0         0   \n",
          "2  0.001351   0.00339       0.0         0       0.0         0         0   \n",
          "3       NaN   0.00339       0.0         0       1.0         0         0   \n",
          "4       NaN   0.00339       0.0         0       0.0         0         0   \n",
          "\n",
          "   Column21  \n",
          "0         0  \n",
          "1         0  \n",
          "2         0  \n",
          "3         0  \n",
          "4         0  \n",
          "\n",
          "[5 rows x 23 columns]"
         ]
        },
        "execution_count": 94,
        "metadata": {},
        "output_type": "execute_result"
       }
      ],
      "source": [
       "x_train_df=pd.read_csv(\"Train_60\\Train_60\\Train_60\\X_Train_Data_Input.csv\")\n",
       "x_train_df.head(5)"
      ]
     },
     {
      "cell_type": "markdown",
      "metadata": {},
      "source": [
       "Checking all the columns"
      ]
     },
     {
      "cell_type": "code",
      "execution_count": 95,
      "metadata": {},
      "outputs": [
       {
        "data": {
         "text/plain": [
          "Index(['ID', 'Column0', 'Column1', 'Column2', 'Column3', 'Column4', 'Column5',\n",
          "       'Column6', 'Column7', 'Column8', 'Column9', 'Column10', 'Column11',\n",
          "       'Column12', 'Column13', 'Column14', 'Column15', 'Column16', 'Column17',\n",
          "       'Column18', 'Column19', 'Column20', 'Column21'],\n",
          "      dtype='object')"
         ]
        },
        "execution_count": 95,
        "metadata": {},
        "output_type": "execute_result"
       }
      ],
      "source": [
       "x_train_df.columns"
      ]
     },
     {
      "cell_type": "markdown",
      "metadata": {},
      "source": [
       "Getting familar with the shape of the dataframe"
      ]
     },
     {
      "cell_type": "code",
      "execution_count": 96,
      "metadata": {},
      "outputs": [
       {
        "name": "stdout",
        "output_type": "stream",
        "text": [
         "(785133, 23)\n"
        ]
       }
      ],
      "source": [
       "print(x_train_df.shape)"
      ]
     },
     {
      "cell_type": "markdown",
      "metadata": {},
      "source": [
       "New all analysis"
      ]
     },
     {
      "cell_type": "markdown",
      "metadata": {},
      "source": [
       "Checking null values in each column"
      ]
     },
     {
      "cell_type": "code",
      "execution_count": 97,
      "metadata": {},
      "outputs": [
       {
        "data": {
         "text/plain": [
          "ID               0\n",
          "Column0          9\n",
          "Column1          0\n",
          "Column2          0\n",
          "Column3     126303\n",
          "Column4     127710\n",
          "Column5     167180\n",
          "Column6       3850\n",
          "Column7          0\n",
          "Column8       3850\n",
          "Column9     732137\n",
          "Column10         0\n",
          "Column11         0\n",
          "Column12         0\n",
          "Column13         0\n",
          "Column14    365703\n",
          "Column15     16456\n",
          "Column16         0\n",
          "Column17         0\n",
          "Column18         0\n",
          "Column19         0\n",
          "Column20         0\n",
          "Column21         0\n",
          "dtype: int64"
         ]
        },
        "execution_count": 97,
        "metadata": {},
        "output_type": "execute_result"
       }
      ],
      "source": [
       "x_train_df.isnull().sum()"
      ]
     },
     {
      "cell_type": "markdown",
      "metadata": {},
      "source": [
       "Getting the info of the DataFrame"
      ]
     },
     {
      "cell_type": "code",
      "execution_count": 98,
      "metadata": {},
      "outputs": [
       {
        "name": "stdout",
        "output_type": "stream",
        "text": [
         "<class 'pandas.core.frame.DataFrame'>\n",
         "RangeIndex: 785133 entries, 0 to 785132\n",
         "Data columns (total 23 columns):\n",
         " #   Column    Non-Null Count   Dtype  \n",
         "---  ------    --------------   -----  \n",
         " 0   ID        785133 non-null  object \n",
         " 1   Column0   785124 non-null  float64\n",
         " 2   Column1   785133 non-null  int64  \n",
         " 3   Column2   785133 non-null  float64\n",
         " 4   Column3   658830 non-null  float64\n",
         " 5   Column4   657423 non-null  float64\n",
         " 6   Column5   617953 non-null  float64\n",
         " 7   Column6   781283 non-null  float64\n",
         " 8   Column7   785133 non-null  float64\n",
         " 9   Column8   781283 non-null  float64\n",
         " 10  Column9   52996 non-null   float64\n",
         " 11  Column10  785133 non-null  int64  \n",
         " 12  Column11  785133 non-null  int64  \n",
         " 13  Column12  785133 non-null  int64  \n",
         " 14  Column13  785133 non-null  int64  \n",
         " 15  Column14  419430 non-null  float64\n",
         " 16  Column15  768677 non-null  float64\n",
         " 17  Column16  785133 non-null  float64\n",
         " 18  Column17  785133 non-null  int64  \n",
         " 19  Column18  785133 non-null  float64\n",
         " 20  Column19  785133 non-null  int64  \n",
         " 21  Column20  785133 non-null  int64  \n",
         " 22  Column21  785133 non-null  int64  \n",
         "dtypes: float64(13), int64(9), object(1)\n",
         "memory usage: 137.8+ MB\n"
        ]
       }
      ],
      "source": [
       "x_train_df.info()"
      ]
     },
     {
      "cell_type": "markdown",
      "metadata": {},
      "source": [
       "checking percentage of null in columns"
      ]
     },
     {
      "cell_type": "code",
      "execution_count": 99,
      "metadata": {},
      "outputs": [
       {
        "data": {
         "text/plain": [
          "np.float64(16.086828601014098)"
         ]
        },
        "execution_count": 99,
        "metadata": {},
        "output_type": "execute_result"
       }
      ],
      "source": [
       "null_count = x_train_df['Column3'].isnull().sum()\n",
       "null_percentage = (null_count / len(x_train_df)) * 100\n",
       "null_percentage"
      ]
     },
     {
      "cell_type": "code",
      "execution_count": 83,
      "metadata": {},
      "outputs": [
       {
        "data": {
         "text/plain": [
          "np.float64(16.266033907630938)"
         ]
        },
        "execution_count": 83,
        "metadata": {},
        "output_type": "execute_result"
       }
      ],
      "source": [
       "null_count = x_train_df['Column4'].isnull().sum()\n",
       "null_percentage = (null_count / len(x_train_df)) * 100\n",
       "null_percentage"
      ]
     },
     {
      "cell_type": "code",
      "execution_count": 84,
      "metadata": {},
      "outputs": [
       {
        "data": {
         "text/plain": [
          "np.float64(21.293207647621486)"
         ]
        },
        "execution_count": 84,
        "metadata": {},
        "output_type": "execute_result"
       }
      ],
      "source": [
       "null_count = x_train_df['Column5'].isnull().sum()\n",
       "null_percentage = (null_count / len(x_train_df)) * 100\n",
       "null_percentage"
      ]
     },
     {
      "cell_type": "code",
      "execution_count": 85,
      "metadata": {},
      "outputs": [
       {
        "data": {
         "text/plain": [
          "np.float64(0.49036277929981287)"
         ]
        },
        "execution_count": 85,
        "metadata": {},
        "output_type": "execute_result"
       }
      ],
      "source": [
       "null_count = x_train_df['Column6'].isnull().sum()\n",
       "null_percentage = (null_count / len(x_train_df)) * 100\n",
       "null_percentage"
      ]
     },
     {
      "cell_type": "code",
      "execution_count": 86,
      "metadata": {},
      "outputs": [
       {
        "data": {
         "text/plain": [
          "np.float64(0.49036277929981287)"
         ]
        },
        "execution_count": 86,
        "metadata": {},
        "output_type": "execute_result"
       }
      ],
      "source": [
       "null_count = x_train_df['Column8'].isnull().sum()\n",
       "null_percentage = (null_count / len(x_train_df)) * 100\n",
       "null_percentage"
      ]
     },
     {
      "cell_type": "code",
      "execution_count": 87,
      "metadata": {},
      "outputs": [
       {
        "data": {
         "text/plain": [
          "np.float64(93.25006081772132)"
         ]
        },
        "execution_count": 87,
        "metadata": {},
        "output_type": "execute_result"
       }
      ],
      "source": [
       "null_count = x_train_df['Column9'].isnull().sum()\n",
       "null_percentage = (null_count / len(x_train_df)) * 100\n",
       "null_percentage"
      ]
     },
     {
      "cell_type": "code",
      "execution_count": 88,
      "metadata": {},
      "outputs": [
       {
        "data": {
         "text/plain": [
          "np.float64(46.5784777865661)"
         ]
        },
        "execution_count": 88,
        "metadata": {},
        "output_type": "execute_result"
       }
      ],
      "source": [
       "null_count = x_train_df['Column14'].isnull().sum()\n",
       "null_percentage = (null_count / len(x_train_df)) * 100\n",
       "null_percentage"
      ]
     },
     {
      "cell_type": "code",
      "execution_count": 89,
      "metadata": {},
      "outputs": [
       {
        "data": {
         "text/plain": [
          "np.float64(2.095950622378629)"
         ]
        },
        "execution_count": 89,
        "metadata": {},
        "output_type": "execute_result"
       }
      ],
      "source": [
       "null_count = x_train_df['Column15'].isnull().sum()\n",
       "null_percentage = (null_count / len(x_train_df)) * 100\n",
       "null_percentage"
      ]
     },
     {
      "cell_type": "markdown",
      "metadata": {},
      "source": [
       "Cleaning the Dataframe"
      ]
     },
     {
      "cell_type": "code",
      "execution_count": 101,
      "metadata": {},
      "outputs": [
       {
        "data": {
         "text/html": [
          "<div>\n",
          "<style scoped>\n",
          "    .dataframe tbody tr th:only-of-type {\n",
          "        vertical-align: middle;\n",
          "    }\n",
          "\n",
          "    .dataframe tbody tr th {\n",
          "        vertical-align: top;\n",
          "    }\n",
          "\n",
          "    .dataframe thead th {\n",
          "        text-align: right;\n",
          "    }\n",
          "</style>\n",
          "<table border=\"1\" class=\"dataframe\">\n",
          "  <thead>\n",
          "    <tr style=\"text-align: right;\">\n",
          "      <th></th>\n",
          "      <th>Column0</th>\n",
          "      <th>Column1</th>\n",
          "      <th>Column2</th>\n",
          "      <th>Column3</th>\n",
          "      <th>Column4</th>\n",
          "      <th>Column5</th>\n",
          "      <th>Column6</th>\n",
          "      <th>Column7</th>\n",
          "      <th>Column8</th>\n",
          "      <th>Column10</th>\n",
          "      <th>...</th>\n",
          "      <th>Column12</th>\n",
          "      <th>Column13</th>\n",
          "      <th>Column14</th>\n",
          "      <th>Column15</th>\n",
          "      <th>Column16</th>\n",
          "      <th>Column17</th>\n",
          "      <th>Column18</th>\n",
          "      <th>Column19</th>\n",
          "      <th>Column20</th>\n",
          "      <th>Column21</th>\n",
          "    </tr>\n",
          "  </thead>\n",
          "  <tbody>\n",
          "    <tr>\n",
          "      <th>0</th>\n",
          "      <td>2.0</td>\n",
          "      <td>2495</td>\n",
          "      <td>3726.0</td>\n",
          "      <td>0.678139</td>\n",
          "      <td>0.701403</td>\n",
          "      <td>-0.007468</td>\n",
          "      <td>0.434190</td>\n",
          "      <td>-0.015603</td>\n",
          "      <td>0.606265</td>\n",
          "      <td>0</td>\n",
          "      <td>...</td>\n",
          "      <td>0</td>\n",
          "      <td>0</td>\n",
          "      <td>0.001351</td>\n",
          "      <td>0.00339</td>\n",
          "      <td>0.0</td>\n",
          "      <td>0</td>\n",
          "      <td>0.0</td>\n",
          "      <td>0</td>\n",
          "      <td>0</td>\n",
          "      <td>0</td>\n",
          "    </tr>\n",
          "    <tr>\n",
          "      <th>1</th>\n",
          "      <td>0.0</td>\n",
          "      <td>2495</td>\n",
          "      <td>3454.0</td>\n",
          "      <td>0.452580</td>\n",
          "      <td>0.701403</td>\n",
          "      <td>-0.007468</td>\n",
          "      <td>1.554998</td>\n",
          "      <td>-0.015574</td>\n",
          "      <td>0.329946</td>\n",
          "      <td>0</td>\n",
          "      <td>...</td>\n",
          "      <td>0</td>\n",
          "      <td>0</td>\n",
          "      <td>0.001351</td>\n",
          "      <td>0.00339</td>\n",
          "      <td>0.0</td>\n",
          "      <td>0</td>\n",
          "      <td>0.0</td>\n",
          "      <td>0</td>\n",
          "      <td>0</td>\n",
          "      <td>0</td>\n",
          "    </tr>\n",
          "    <tr>\n",
          "      <th>2</th>\n",
          "      <td>2.0</td>\n",
          "      <td>2495</td>\n",
          "      <td>4543.0</td>\n",
          "      <td>-1.577453</td>\n",
          "      <td>-1.429540</td>\n",
          "      <td>-0.007469</td>\n",
          "      <td>-0.407939</td>\n",
          "      <td>-0.015607</td>\n",
          "      <td>-0.774979</td>\n",
          "      <td>1</td>\n",
          "      <td>...</td>\n",
          "      <td>1</td>\n",
          "      <td>1</td>\n",
          "      <td>0.001351</td>\n",
          "      <td>0.00339</td>\n",
          "      <td>0.0</td>\n",
          "      <td>0</td>\n",
          "      <td>0.0</td>\n",
          "      <td>0</td>\n",
          "      <td>0</td>\n",
          "      <td>0</td>\n",
          "    </tr>\n",
          "    <tr>\n",
          "      <th>3</th>\n",
          "      <td>0.0</td>\n",
          "      <td>211</td>\n",
          "      <td>59.0</td>\n",
          "      <td>NaN</td>\n",
          "      <td>NaN</td>\n",
          "      <td>NaN</td>\n",
          "      <td>-0.407939</td>\n",
          "      <td>-0.015607</td>\n",
          "      <td>-0.774979</td>\n",
          "      <td>0</td>\n",
          "      <td>...</td>\n",
          "      <td>0</td>\n",
          "      <td>0</td>\n",
          "      <td>NaN</td>\n",
          "      <td>0.00339</td>\n",
          "      <td>0.0</td>\n",
          "      <td>0</td>\n",
          "      <td>1.0</td>\n",
          "      <td>0</td>\n",
          "      <td>0</td>\n",
          "      <td>0</td>\n",
          "    </tr>\n",
          "    <tr>\n",
          "      <th>4</th>\n",
          "      <td>0.0</td>\n",
          "      <td>718</td>\n",
          "      <td>950.0</td>\n",
          "      <td>-2.028572</td>\n",
          "      <td>-1.855728</td>\n",
          "      <td>NaN</td>\n",
          "      <td>-0.407939</td>\n",
          "      <td>-0.015607</td>\n",
          "      <td>-0.774979</td>\n",
          "      <td>0</td>\n",
          "      <td>...</td>\n",
          "      <td>0</td>\n",
          "      <td>0</td>\n",
          "      <td>NaN</td>\n",
          "      <td>0.00339</td>\n",
          "      <td>0.0</td>\n",
          "      <td>0</td>\n",
          "      <td>0.0</td>\n",
          "      <td>0</td>\n",
          "      <td>0</td>\n",
          "      <td>0</td>\n",
          "    </tr>\n",
          "  </tbody>\n",
          "</table>\n",
          "<p>5 rows × 21 columns</p>\n",
          "</div>"
         ],
         "text/plain": [
          "   Column0  Column1  Column2   Column3   Column4   Column5   Column6  \\\n",
          "0      2.0     2495   3726.0  0.678139  0.701403 -0.007468  0.434190   \n",
          "1      0.0     2495   3454.0  0.452580  0.701403 -0.007468  1.554998   \n",
          "2      2.0     2495   4543.0 -1.577453 -1.429540 -0.007469 -0.407939   \n",
          "3      0.0      211     59.0       NaN       NaN       NaN -0.407939   \n",
          "4      0.0      718    950.0 -2.028572 -1.855728       NaN -0.407939   \n",
          "\n",
          "    Column7   Column8  Column10  ...  Column12  Column13  Column14  Column15  \\\n",
          "0 -0.015603  0.606265         0  ...         0         0  0.001351   0.00339   \n",
          "1 -0.015574  0.329946         0  ...         0         0  0.001351   0.00339   \n",
          "2 -0.015607 -0.774979         1  ...         1         1  0.001351   0.00339   \n",
          "3 -0.015607 -0.774979         0  ...         0         0       NaN   0.00339   \n",
          "4 -0.015607 -0.774979         0  ...         0         0       NaN   0.00339   \n",
          "\n",
          "   Column16  Column17  Column18  Column19  Column20  Column21  \n",
          "0       0.0         0       0.0         0         0         0  \n",
          "1       0.0         0       0.0         0         0         0  \n",
          "2       0.0         0       0.0         0         0         0  \n",
          "3       0.0         0       1.0         0         0         0  \n",
          "4       0.0         0       0.0         0         0         0  \n",
          "\n",
          "[5 rows x 21 columns]"
         ]
        },
        "execution_count": 101,
        "metadata": {},
        "output_type": "execute_result"
       }
      ],
      "source": [
       "\n",
       "x_train_df.drop(columns=['ID','Column9'], inplace=True)\n",
       "x_train_df.head(5)"
      ]
     },
     {
      "cell_type": "code",
      "execution_count": 102,
      "metadata": {},
      "outputs": [],
      "source": [
       "x_train_df['Column0']=x_train_df['Column0'].interpolate()\n",
       "x_train_df['Column3']=x_train_df['Column3'].interpolate()\n",
       "x_train_df['Column4']=x_train_df['Column4'].interpolate()\n",
       "x_train_df['Column5']=x_train_df['Column5'].interpolate()\n",
       "x_train_df['Column6']=x_train_df['Column6'].interpolate()\n",
       "x_train_df['Column8']=x_train_df['Column8'].interpolate()\n",
       "x_train_df['Column14']=x_train_df['Column14'].interpolate()\n",
       "x_train_df['Column15']=x_train_df['Column15'].interpolate()\n",
       "\n",
       "\n",
       "# Other things to check\n",
       "#     x_train_df.fillna(method='ffill', inplace=True)\n",
       "#     x_train_df.fillna(method='bfill', inplace=True)\n",
       "#     x_train_df.fillna(x_train_df.mean(), inplace=True)\n",
       "\n"
      ]
     },
     {
      "cell_type": "code",
      "execution_count": 18,
      "metadata": {},
      "outputs": [
       {
        "data": {
         "text/plain": [
          "ID          0\n",
          "Column0     0\n",
          "Column1     0\n",
          "Column2     0\n",
          "Column3     0\n",
          "Column4     0\n",
          "Column5     0\n",
          "Column6     0\n",
          "Column7     0\n",
          "Column8     0\n",
          "Column10    0\n",
          "Column11    0\n",
          "Column12    0\n",
          "Column13    0\n",
          "Column14    0\n",
          "Column15    0\n",
          "Column16    0\n",
          "Column17    0\n",
          "Column18    0\n",
          "Column19    0\n",
          "Column20    0\n",
          "Column21    0\n",
          "dtype: int64"
         ]
        },
        "execution_count": 18,
        "metadata": {},
        "output_type": "execute_result"
       }
      ],
      "source": [
       "x_train_df.isna().sum()"
      ]
     },
     {
      "cell_type": "markdown",
      "metadata": {},
      "source": [
       "Checking same steps on testing data"
      ]
     },
     {
      "cell_type": "code",
      "execution_count": 110,
      "metadata": {},
      "outputs": [
       {
        "data": {
         "text/html": [
          "<div>\n",
          "<style scoped>\n",
          "    .dataframe tbody tr th:only-of-type {\n",
          "        vertical-align: middle;\n",
          "    }\n",
          "\n",
          "    .dataframe tbody tr th {\n",
          "        vertical-align: top;\n",
          "    }\n",
          "\n",
          "    .dataframe thead th {\n",
          "        text-align: right;\n",
          "    }\n",
          "</style>\n",
          "<table border=\"1\" class=\"dataframe\">\n",
          "  <thead>\n",
          "    <tr style=\"text-align: right;\">\n",
          "      <th></th>\n",
          "      <th>ID</th>\n",
          "      <th>Column0</th>\n",
          "      <th>Column1</th>\n",
          "      <th>Column2</th>\n",
          "      <th>Column3</th>\n",
          "      <th>Column4</th>\n",
          "      <th>Column5</th>\n",
          "      <th>Column6</th>\n",
          "      <th>Column7</th>\n",
          "      <th>Column8</th>\n",
          "      <th>...</th>\n",
          "      <th>Column12</th>\n",
          "      <th>Column13</th>\n",
          "      <th>Column14</th>\n",
          "      <th>Column15</th>\n",
          "      <th>Column16</th>\n",
          "      <th>Column17</th>\n",
          "      <th>Column18</th>\n",
          "      <th>Column19</th>\n",
          "      <th>Column20</th>\n",
          "      <th>Column21</th>\n",
          "    </tr>\n",
          "  </thead>\n",
          "  <tbody>\n",
          "    <tr>\n",
          "      <th>0</th>\n",
          "      <td>07cf2025382f6325b316e128b1b90999</td>\n",
          "      <td>1.0</td>\n",
          "      <td>1986</td>\n",
          "      <td>53.0</td>\n",
          "      <td>0.678139</td>\n",
          "      <td>0.701403</td>\n",
          "      <td>-0.007469</td>\n",
          "      <td>-0.407939</td>\n",
          "      <td>-0.015607</td>\n",
          "      <td>0.554860</td>\n",
          "      <td>...</td>\n",
          "      <td>1</td>\n",
          "      <td>1</td>\n",
          "      <td>0.001351</td>\n",
          "      <td>0.00339</td>\n",
          "      <td>0.0</td>\n",
          "      <td>0</td>\n",
          "      <td>0.0</td>\n",
          "      <td>0</td>\n",
          "      <td>0</td>\n",
          "      <td>0</td>\n",
          "    </tr>\n",
          "    <tr>\n",
          "      <th>1</th>\n",
          "      <td>eb972eb3a1f8d0d1a13f45e7c07d37d4</td>\n",
          "      <td>2.0</td>\n",
          "      <td>1579</td>\n",
          "      <td>12.0</td>\n",
          "      <td>0.678139</td>\n",
          "      <td>0.701403</td>\n",
          "      <td>-0.007468</td>\n",
          "      <td>-0.407939</td>\n",
          "      <td>-0.015607</td>\n",
          "      <td>0.142149</td>\n",
          "      <td>...</td>\n",
          "      <td>1</td>\n",
          "      <td>0</td>\n",
          "      <td>0.001351</td>\n",
          "      <td>0.00339</td>\n",
          "      <td>0.0</td>\n",
          "      <td>0</td>\n",
          "      <td>0.0</td>\n",
          "      <td>0</td>\n",
          "      <td>0</td>\n",
          "      <td>0</td>\n",
          "    </tr>\n",
          "    <tr>\n",
          "      <th>2</th>\n",
          "      <td>ee35e164b3ddc25a9f40243b81ad290d</td>\n",
          "      <td>0.0</td>\n",
          "      <td>898</td>\n",
          "      <td>3817.0</td>\n",
          "      <td>-2.028572</td>\n",
          "      <td>-1.855728</td>\n",
          "      <td>NaN</td>\n",
          "      <td>-0.407939</td>\n",
          "      <td>-0.015607</td>\n",
          "      <td>-0.774979</td>\n",
          "      <td>...</td>\n",
          "      <td>0</td>\n",
          "      <td>0</td>\n",
          "      <td>NaN</td>\n",
          "      <td>0.00339</td>\n",
          "      <td>0.0</td>\n",
          "      <td>0</td>\n",
          "      <td>0.0</td>\n",
          "      <td>0</td>\n",
          "      <td>0</td>\n",
          "      <td>0</td>\n",
          "    </tr>\n",
          "    <tr>\n",
          "      <th>3</th>\n",
          "      <td>28229ccd7bad7dd83324a4175a7e0531</td>\n",
          "      <td>0.0</td>\n",
          "      <td>79</td>\n",
          "      <td>3449.0</td>\n",
          "      <td>-0.675216</td>\n",
          "      <td>-0.577162</td>\n",
          "      <td>-0.007469</td>\n",
          "      <td>0.004020</td>\n",
          "      <td>-0.015607</td>\n",
          "      <td>0.635264</td>\n",
          "      <td>...</td>\n",
          "      <td>0</td>\n",
          "      <td>1</td>\n",
          "      <td>0.001351</td>\n",
          "      <td>0.00339</td>\n",
          "      <td>0.0</td>\n",
          "      <td>0</td>\n",
          "      <td>0.0</td>\n",
          "      <td>0</td>\n",
          "      <td>0</td>\n",
          "      <td>0</td>\n",
          "    </tr>\n",
          "    <tr>\n",
          "      <th>4</th>\n",
          "      <td>2f94873da2c332d28f111742818e0fbb</td>\n",
          "      <td>1.0</td>\n",
          "      <td>646</td>\n",
          "      <td>6510.0</td>\n",
          "      <td>-2.028572</td>\n",
          "      <td>-1.855728</td>\n",
          "      <td>NaN</td>\n",
          "      <td>-0.407939</td>\n",
          "      <td>-0.015434</td>\n",
          "      <td>-0.774979</td>\n",
          "      <td>...</td>\n",
          "      <td>1</td>\n",
          "      <td>1</td>\n",
          "      <td>NaN</td>\n",
          "      <td>0.00339</td>\n",
          "      <td>0.0</td>\n",
          "      <td>0</td>\n",
          "      <td>0.0</td>\n",
          "      <td>0</td>\n",
          "      <td>0</td>\n",
          "      <td>0</td>\n",
          "    </tr>\n",
          "  </tbody>\n",
          "</table>\n",
          "<p>5 rows × 23 columns</p>\n",
          "</div>"
         ],
         "text/plain": [
          "                                 ID  Column0  Column1  Column2   Column3  \\\n",
          "0  07cf2025382f6325b316e128b1b90999      1.0     1986     53.0  0.678139   \n",
          "1  eb972eb3a1f8d0d1a13f45e7c07d37d4      2.0     1579     12.0  0.678139   \n",
          "2  ee35e164b3ddc25a9f40243b81ad290d      0.0      898   3817.0 -2.028572   \n",
          "3  28229ccd7bad7dd83324a4175a7e0531      0.0       79   3449.0 -0.675216   \n",
          "4  2f94873da2c332d28f111742818e0fbb      1.0      646   6510.0 -2.028572   \n",
          "\n",
          "    Column4   Column5   Column6   Column7   Column8  ...  Column12  Column13  \\\n",
          "0  0.701403 -0.007469 -0.407939 -0.015607  0.554860  ...         1         1   \n",
          "1  0.701403 -0.007468 -0.407939 -0.015607  0.142149  ...         1         0   \n",
          "2 -1.855728       NaN -0.407939 -0.015607 -0.774979  ...         0         0   \n",
          "3 -0.577162 -0.007469  0.004020 -0.015607  0.635264  ...         0         1   \n",
          "4 -1.855728       NaN -0.407939 -0.015434 -0.774979  ...         1         1   \n",
          "\n",
          "   Column14  Column15  Column16  Column17  Column18  Column19  Column20  \\\n",
          "0  0.001351   0.00339       0.0         0       0.0         0         0   \n",
          "1  0.001351   0.00339       0.0         0       0.0         0         0   \n",
          "2       NaN   0.00339       0.0         0       0.0         0         0   \n",
          "3  0.001351   0.00339       0.0         0       0.0         0         0   \n",
          "4       NaN   0.00339       0.0         0       0.0         0         0   \n",
          "\n",
          "   Column21  \n",
          "0         0  \n",
          "1         0  \n",
          "2         0  \n",
          "3         0  \n",
          "4         0  \n",
          "\n",
          "[5 rows x 23 columns]"
         ]
        },
        "execution_count": 110,
        "metadata": {},
        "output_type": "execute_result"
       }
      ],
      "source": [
       "x_test_df=pd.read_csv(\"Test_20\\Test_20\\Test_20\\X_Test_Data_Input.csv\")\n",
       "x_test_df.head(5)"
      ]
     },
     {
      "cell_type": "markdown",
      "metadata": {},
      "source": [
       "Checking the columns\n"
      ]
     },
     {
      "cell_type": "code",
      "execution_count": 111,
      "metadata": {},
      "outputs": [
       {
        "data": {
         "text/plain": [
          "Index(['ID', 'Column0', 'Column1', 'Column2', 'Column3', 'Column4', 'Column5',\n",
          "       'Column6', 'Column7', 'Column8', 'Column9', 'Column10', 'Column11',\n",
          "       'Column12', 'Column13', 'Column14', 'Column15', 'Column16', 'Column17',\n",
          "       'Column18', 'Column19', 'Column20', 'Column21'],\n",
          "      dtype='object')"
         ]
        },
        "execution_count": 111,
        "metadata": {},
        "output_type": "execute_result"
       }
      ],
      "source": [
       "x_test_df.columns"
      ]
     },
     {
      "cell_type": "markdown",
      "metadata": {},
      "source": [
       "Getting familar with the shape of the dataframe"
      ]
     },
     {
      "cell_type": "code",
      "execution_count": 112,
      "metadata": {},
      "outputs": [
       {
        "name": "stdout",
        "output_type": "stream",
        "text": [
         "(261712, 23)\n"
        ]
       }
      ],
      "source": [
       "print(x_test_df.shape)"
      ]
     },
     {
      "cell_type": "markdown",
      "metadata": {},
      "source": [
       "Getting the info"
      ]
     },
     {
      "cell_type": "code",
      "execution_count": 113,
      "metadata": {},
      "outputs": [
       {
        "name": "stdout",
        "output_type": "stream",
        "text": [
         "<class 'pandas.core.frame.DataFrame'>\n",
         "RangeIndex: 261712 entries, 0 to 261711\n",
         "Data columns (total 23 columns):\n",
         " #   Column    Non-Null Count   Dtype  \n",
         "---  ------    --------------   -----  \n",
         " 0   ID        261712 non-null  object \n",
         " 1   Column0   261710 non-null  float64\n",
         " 2   Column1   261712 non-null  int64  \n",
         " 3   Column2   261712 non-null  float64\n",
         " 4   Column3   219478 non-null  float64\n",
         " 5   Column4   219002 non-null  float64\n",
         " 6   Column5   206053 non-null  float64\n",
         " 7   Column6   260478 non-null  float64\n",
         " 8   Column7   261712 non-null  float64\n",
         " 9   Column8   260478 non-null  float64\n",
         " 10  Column9   17859 non-null   float64\n",
         " 11  Column10  261712 non-null  int64  \n",
         " 12  Column11  261712 non-null  int64  \n",
         " 13  Column12  261712 non-null  int64  \n",
         " 14  Column13  261712 non-null  int64  \n",
         " 15  Column14  140033 non-null  float64\n",
         " 16  Column15  256227 non-null  float64\n",
         " 17  Column16  261712 non-null  float64\n",
         " 18  Column17  261712 non-null  int64  \n",
         " 19  Column18  261712 non-null  float64\n",
         " 20  Column19  261712 non-null  int64  \n",
         " 21  Column20  261712 non-null  int64  \n",
         " 22  Column21  261712 non-null  int64  \n",
         "dtypes: float64(13), int64(9), object(1)\n",
         "memory usage: 45.9+ MB\n"
        ]
       }
      ],
      "source": [
       "x_test_df.info() "
      ]
     },
     {
      "cell_type": "markdown",
      "metadata": {},
      "source": [
       "Checking null values in each column"
      ]
     },
     {
      "cell_type": "code",
      "execution_count": 23,
      "metadata": {},
      "outputs": [
       {
        "data": {
         "text/plain": [
          "ID               0\n",
          "Column0          2\n",
          "Column1          0\n",
          "Column2          0\n",
          "Column3      42234\n",
          "Column4      42710\n",
          "Column5      55659\n",
          "Column6       1234\n",
          "Column7          0\n",
          "Column8       1234\n",
          "Column9     243853\n",
          "Column10         0\n",
          "Column11         0\n",
          "Column12         0\n",
          "Column13         0\n",
          "Column14    121679\n",
          "Column15      5485\n",
          "Column16         0\n",
          "Column17         0\n",
          "Column18         0\n",
          "Column19         0\n",
          "Column20         0\n",
          "Column21         0\n",
          "dtype: int64"
         ]
        },
        "execution_count": 23,
        "metadata": {},
        "output_type": "execute_result"
       }
      ],
      "source": [
       "x_test_df.isnull().sum()"
      ]
     },
     {
      "cell_type": "code",
      "execution_count": 114,
      "metadata": {},
      "outputs": [
       {
        "data": {
         "text/plain": [
          "np.float64(16.137586354465977)"
         ]
        },
        "execution_count": 114,
        "metadata": {},
        "output_type": "execute_result"
       }
      ],
      "source": [
       "null_count = x_test_df['Column3'].isnull().sum()\n",
       "null_percentage = (null_count / len(x_test_df)) * 100\n",
       "null_percentage"
      ]
     },
     {
      "cell_type": "code",
      "execution_count": 25,
      "metadata": {},
      "outputs": [
       {
        "data": {
         "text/plain": [
          "np.float64(16.319465672189278)"
         ]
        },
        "execution_count": 25,
        "metadata": {},
        "output_type": "execute_result"
       }
      ],
      "source": [
       "null_count = x_test_df['Column4'].isnull().sum()\n",
       "null_percentage = (null_count / len(x_test_df)) * 100\n",
       "null_percentage"
      ]
     },
     {
      "cell_type": "code",
      "execution_count": 26,
      "metadata": {},
      "outputs": [
       {
        "data": {
         "text/plain": [
          "np.float64(21.267270893195576)"
         ]
        },
        "execution_count": 26,
        "metadata": {},
        "output_type": "execute_result"
       }
      ],
      "source": [
       "null_count = x_test_df['Column5'].isnull().sum()\n",
       "null_percentage = (null_count / len(x_test_df)) * 100\n",
       "null_percentage\n"
      ]
     },
     {
      "cell_type": "code",
      "execution_count": 27,
      "metadata": {},
      "outputs": [
       {
        "data": {
         "text/plain": [
          "np.float64(0.47151066821544296)"
         ]
        },
        "execution_count": 27,
        "metadata": {},
        "output_type": "execute_result"
       }
      ],
      "source": [
       "null_count = x_test_df['Column6'].isnull().sum()\n",
       "null_percentage = (null_count / len(x_test_df)) * 100\n",
       "null_percentage"
      ]
     },
     {
      "cell_type": "code",
      "execution_count": 28,
      "metadata": {},
      "outputs": [
       {
        "data": {
         "text/plain": [
          "np.float64(0.47151066821544296)"
         ]
        },
        "execution_count": 28,
        "metadata": {},
        "output_type": "execute_result"
       }
      ],
      "source": [
       "null_count = x_test_df['Column8'].isnull().sum()\n",
       "null_percentage = (null_count / len(x_test_df)) * 100\n",
       "null_percentage"
      ]
     },
     {
      "cell_type": "code",
      "execution_count": 29,
      "metadata": {},
      "outputs": [
       {
        "data": {
         "text/plain": [
          "np.float64(93.17608669071346)"
         ]
        },
        "execution_count": 29,
        "metadata": {},
        "output_type": "execute_result"
       }
      ],
      "source": [
       "null_count = x_test_df['Column9'].isnull().sum()\n",
       "null_percentage = (null_count / len(x_test_df)) * 100\n",
       "null_percentage"
      ]
     },
     {
      "cell_type": "code",
      "execution_count": 30,
      "metadata": {},
      "outputs": [
       {
        "data": {
         "text/plain": [
          "np.float64(46.49347374212876)"
         ]
        },
        "execution_count": 30,
        "metadata": {},
        "output_type": "execute_result"
       }
      ],
      "source": [
       "null_count = x_test_df['Column14'].isnull().sum()\n",
       "null_percentage = (null_count / len(x_test_df)) * 100\n",
       "null_percentage"
      ]
     },
     {
      "cell_type": "code",
      "execution_count": 31,
      "metadata": {},
      "outputs": [
       {
        "data": {
         "text/plain": [
          "np.float64(2.0958152472947362)"
         ]
        },
        "execution_count": 31,
        "metadata": {},
        "output_type": "execute_result"
       }
      ],
      "source": [
       "null_count = x_test_df['Column15'].isnull().sum()\n",
       "null_percentage = (null_count / len(x_test_df)) * 100\n",
       "null_percentage"
      ]
     },
     {
      "cell_type": "markdown",
      "metadata": {},
      "source": [
       "cleaning the dataframe"
      ]
     },
     {
      "cell_type": "code",
      "execution_count": 115,
      "metadata": {},
      "outputs": [],
      "source": [
       "x_test_df = x_test_df.drop(columns=['ID','Column9'], axis=1)"
      ]
     },
     {
      "cell_type": "code",
      "execution_count": 119,
      "metadata": {},
      "outputs": [],
      "source": [
       "x_test_df['Column0']=x_test_df['Column0'].interpolate()\n",
       "x_test_df['Column3']=x_test_df['Column3'].interpolate()\n",
       "x_test_df['Column4']=x_test_df['Column4'].interpolate()\n",
       "x_test_df['Column5']=x_test_df['Column5'].interpolate()\n",
       "x_test_df['Column6']=x_test_df['Column6'].interpolate()\n",
       "x_test_df['Column8']=x_test_df['Column8'].interpolate()\n",
       "x_test_df['Column14']=x_test_df['Column14'].interpolate()\n",
       "x_test_df['Column15']=x_test_df['Column15'].interpolate()"
      ]
     },
     {
      "cell_type": "code",
      "execution_count": 120,
      "metadata": {},
      "outputs": [
       {
        "data": {
         "text/plain": [
          "Column0     0\n",
          "Column1     0\n",
          "Column2     0\n",
          "Column3     0\n",
          "Column4     0\n",
          "Column5     0\n",
          "Column6     0\n",
          "Column7     0\n",
          "Column8     0\n",
          "Column10    0\n",
          "Column11    0\n",
          "Column12    0\n",
          "Column13    0\n",
          "Column14    0\n",
          "Column15    0\n",
          "Column16    0\n",
          "Column17    0\n",
          "Column18    0\n",
          "Column19    0\n",
          "Column20    0\n",
          "Column21    0\n",
          "dtype: int64"
         ]
        },
        "execution_count": 120,
        "metadata": {},
        "output_type": "execute_result"
       }
      ],
      "source": [
       "x_test_df.isna().sum()"
      ]
     },
     {
      "cell_type": "markdown",
      "metadata": {},
      "source": [
       "Checking the  predicted training dataset"
      ]
     },
     {
      "cell_type": "code",
      "execution_count": 117,
      "metadata": {},
      "outputs": [
       {
        "data": {
         "text/html": [
          "<div>\n",
          "<style scoped>\n",
          "    .dataframe tbody tr th:only-of-type {\n",
          "        vertical-align: middle;\n",
          "    }\n",
          "\n",
          "    .dataframe tbody tr th {\n",
          "        vertical-align: top;\n",
          "    }\n",
          "\n",
          "    .dataframe thead th {\n",
          "        text-align: right;\n",
          "    }\n",
          "</style>\n",
          "<table border=\"1\" class=\"dataframe\">\n",
          "  <thead>\n",
          "    <tr style=\"text-align: right;\">\n",
          "      <th></th>\n",
          "      <th>ID</th>\n",
          "      <th>target</th>\n",
          "    </tr>\n",
          "  </thead>\n",
          "  <tbody>\n",
          "    <tr>\n",
          "      <th>0</th>\n",
          "      <td>ad1a67e4cbddc767a3456b0d94299b9e</td>\n",
          "      <td>0</td>\n",
          "    </tr>\n",
          "    <tr>\n",
          "      <th>1</th>\n",
          "      <td>7246d2f76ac0c217ec25e72ea5f014cb</td>\n",
          "      <td>0</td>\n",
          "    </tr>\n",
          "    <tr>\n",
          "      <th>2</th>\n",
          "      <td>22ba388e7dd14c13342c49e75fc29dda</td>\n",
          "      <td>0</td>\n",
          "    </tr>\n",
          "    <tr>\n",
          "      <th>3</th>\n",
          "      <td>59f9b981472d97342587fb3e6392aeb1</td>\n",
          "      <td>1</td>\n",
          "    </tr>\n",
          "    <tr>\n",
          "      <th>4</th>\n",
          "      <td>f6317cf7ecf126859804eddff279aead</td>\n",
          "      <td>0</td>\n",
          "    </tr>\n",
          "  </tbody>\n",
          "</table>\n",
          "</div>"
         ],
         "text/plain": [
          "                                 ID  target\n",
          "0  ad1a67e4cbddc767a3456b0d94299b9e       0\n",
          "1  7246d2f76ac0c217ec25e72ea5f014cb       0\n",
          "2  22ba388e7dd14c13342c49e75fc29dda       0\n",
          "3  59f9b981472d97342587fb3e6392aeb1       1\n",
          "4  f6317cf7ecf126859804eddff279aead       0"
         ]
        },
        "execution_count": 117,
        "metadata": {},
        "output_type": "execute_result"
       }
      ],
      "source": [
       "y_train_df=pd.read_csv(\"Train_60\\Train_60\\Train_60\\Y_Train_Data_Target.csv\")\n",
       "y_train_df.head(5)"
      ]
     },
     {
      "cell_type": "code",
      "execution_count": 118,
      "metadata": {},
      "outputs": [
       {
        "data": {
         "text/plain": [
          "ID        0\n",
          "target    0\n",
          "dtype: int64"
         ]
        },
        "execution_count": 118,
        "metadata": {},
        "output_type": "execute_result"
       }
      ],
      "source": [
       "y_train_df.isna().sum()"
      ]
     },
     {
      "cell_type": "code",
      "execution_count": 37,
      "metadata": {},
      "outputs": [],
      "source": [
       "y_train_df = y_train_df.drop(columns=['ID'])\n",
       "\n"
      ]
     },
     {
      "cell_type": "code",
      "execution_count": 38,
      "metadata": {},
      "outputs": [
       {
        "data": {
         "text/plain": [
          "target\n",
          "0    711100\n",
          "1     74033\n",
          "Name: count, dtype: int64"
         ]
        },
        "execution_count": 38,
        "metadata": {},
        "output_type": "execute_result"
       }
      ],
      "source": [
       "y_train_df.shape\n",
       "count= y_train_df[\"target\"].value_counts()\n",
       "count"
      ]
     },
     {
      "cell_type": "markdown",
      "metadata": {},
      "source": [
       "Checking the predicted testing dataset"
      ]
     },
     {
      "cell_type": "code",
      "execution_count": 39,
      "metadata": {},
      "outputs": [
       {
        "data": {
         "text/html": [
          "<div>\n",
          "<style scoped>\n",
          "    .dataframe tbody tr th:only-of-type {\n",
          "        vertical-align: middle;\n",
          "    }\n",
          "\n",
          "    .dataframe tbody tr th {\n",
          "        vertical-align: top;\n",
          "    }\n",
          "\n",
          "    .dataframe thead th {\n",
          "        text-align: right;\n",
          "    }\n",
          "</style>\n",
          "<table border=\"1\" class=\"dataframe\">\n",
          "  <thead>\n",
          "    <tr style=\"text-align: right;\">\n",
          "      <th></th>\n",
          "      <th>ID</th>\n",
          "      <th>target</th>\n",
          "    </tr>\n",
          "  </thead>\n",
          "  <tbody>\n",
          "    <tr>\n",
          "      <th>0</th>\n",
          "      <td>07cf2025382f6325b316e128b1b90999</td>\n",
          "      <td>0</td>\n",
          "    </tr>\n",
          "    <tr>\n",
          "      <th>1</th>\n",
          "      <td>eb972eb3a1f8d0d1a13f45e7c07d37d4</td>\n",
          "      <td>0</td>\n",
          "    </tr>\n",
          "    <tr>\n",
          "      <th>2</th>\n",
          "      <td>ee35e164b3ddc25a9f40243b81ad290d</td>\n",
          "      <td>0</td>\n",
          "    </tr>\n",
          "    <tr>\n",
          "      <th>3</th>\n",
          "      <td>28229ccd7bad7dd83324a4175a7e0531</td>\n",
          "      <td>0</td>\n",
          "    </tr>\n",
          "    <tr>\n",
          "      <th>4</th>\n",
          "      <td>2f94873da2c332d28f111742818e0fbb</td>\n",
          "      <td>0</td>\n",
          "    </tr>\n",
          "  </tbody>\n",
          "</table>\n",
          "</div>"
         ],
         "text/plain": [
          "                                 ID  target\n",
          "0  07cf2025382f6325b316e128b1b90999       0\n",
          "1  eb972eb3a1f8d0d1a13f45e7c07d37d4       0\n",
          "2  ee35e164b3ddc25a9f40243b81ad290d       0\n",
          "3  28229ccd7bad7dd83324a4175a7e0531       0\n",
          "4  2f94873da2c332d28f111742818e0fbb       0"
         ]
        },
        "execution_count": 39,
        "metadata": {},
        "output_type": "execute_result"
       }
      ],
      "source": [
       "y_test_df=pd.read_csv(\"Test_20\\Test_20\\Test_20\\Y_Test_Data_Target.csv\")\n",
       "y_test_df.head(5)"
      ]
     },
     {
      "cell_type": "code",
      "execution_count": 40,
      "metadata": {},
      "outputs": [
       {
        "data": {
         "text/plain": [
          "ID        0\n",
          "target    0\n",
          "dtype: int64"
         ]
        },
        "execution_count": 40,
        "metadata": {},
        "output_type": "execute_result"
       }
      ],
      "source": [
       "y_test_df.isna().sum()"
      ]
     },
     {
      "cell_type": "code",
      "execution_count": 41,
      "metadata": {},
      "outputs": [],
      "source": [
       "y_text_df = y_test_df.drop(columns=['ID'])"
      ]
     },
     {
      "cell_type": "code",
      "execution_count": 42,
      "metadata": {},
      "outputs": [
       {
        "data": {
         "text/plain": [
          "target\n",
          "0    237034\n",
          "1     24678\n",
          "Name: count, dtype: int64"
         ]
        },
        "execution_count": 42,
        "metadata": {},
        "output_type": "execute_result"
       }
      ],
      "source": [
       "count= y_test_df[\"target\"].value_counts()\n",
       "count"
      ]
     },
     {
      "cell_type": "code",
      "execution_count": 122,
      "metadata": {},
      "outputs": [
       {
        "data": {
         "text/html": [
          "<style>#sk-container-id-4 {\n",
          "  /* Definition of color scheme common for light and dark mode */\n",
          "  --sklearn-color-text: black;\n",
          "  --sklearn-color-line: gray;\n",
          "  /* Definition of color scheme for unfitted estimators */\n",
          "  --sklearn-color-unfitted-level-0: #fff5e6;\n",
          "  --sklearn-color-unfitted-level-1: #f6e4d2;\n",
          "  --sklearn-color-unfitted-level-2: #ffe0b3;\n",
          "  --sklearn-color-unfitted-level-3: chocolate;\n",
          "  /* Definition of color scheme for fitted estimators */\n",
          "  --sklearn-color-fitted-level-0: #f0f8ff;\n",
          "  --sklearn-color-fitted-level-1: #d4ebff;\n",
          "  --sklearn-color-fitted-level-2: #b3dbfd;\n",
          "  --sklearn-color-fitted-level-3: cornflowerblue;\n",
          "\n",
          "  /* Specific color for light theme */\n",
          "  --sklearn-color-text-on-default-background: var(--sg-text-color, var(--theme-code-foreground, var(--jp-content-font-color1, black)));\n",
          "  --sklearn-color-background: var(--sg-background-color, var(--theme-background, var(--jp-layout-color0, white)));\n",
          "  --sklearn-color-border-box: var(--sg-text-color, var(--theme-code-foreground, var(--jp-content-font-color1, black)));\n",
          "  --sklearn-color-icon: #696969;\n",
          "\n",
          "  @media (prefers-color-scheme: dark) {\n",
          "    /* Redefinition of color scheme for dark theme */\n",
          "    --sklearn-color-text-on-default-background: var(--sg-text-color, var(--theme-code-foreground, var(--jp-content-font-color1, white)));\n",
          "    --sklearn-color-background: var(--sg-background-color, var(--theme-background, var(--jp-layout-color0, #111)));\n",
          "    --sklearn-color-border-box: var(--sg-text-color, var(--theme-code-foreground, var(--jp-content-font-color1, white)));\n",
          "    --sklearn-color-icon: #878787;\n",
          "  }\n",
          "}\n",
          "\n",
          "#sk-container-id-4 {\n",
          "  color: var(--sklearn-color-text);\n",
          "}\n",
          "\n",
          "#sk-container-id-4 pre {\n",
          "  padding: 0;\n",
          "}\n",
          "\n",
          "#sk-container-id-4 input.sk-hidden--visually {\n",
          "  border: 0;\n",
          "  clip: rect(1px 1px 1px 1px);\n",
          "  clip: rect(1px, 1px, 1px, 1px);\n",
          "  height: 1px;\n",
          "  margin: -1px;\n",
          "  overflow: hidden;\n",
          "  padding: 0;\n",
          "  position: absolute;\n",
          "  width: 1px;\n",
          "}\n",
          "\n",
          "#sk-container-id-4 div.sk-dashed-wrapped {\n",
          "  border: 1px dashed var(--sklearn-color-line);\n",
          "  margin: 0 0.4em 0.5em 0.4em;\n",
          "  box-sizing: border-box;\n",
          "  padding-bottom: 0.4em;\n",
          "  background-color: var(--sklearn-color-background);\n",
          "}\n",
          "\n",
          "#sk-container-id-4 div.sk-container {\n",
          "  /* jupyter's `normalize.less` sets `[hidden] { display: none; }`\n",
          "     but bootstrap.min.css set `[hidden] { display: none !important; }`\n",
          "     so we also need the `!important` here to be able to override the\n",
          "     default hidden behavior on the sphinx rendered scikit-learn.org.\n",
          "     See: https://github.com/scikit-learn/scikit-learn/issues/21755 */\n",
          "  display: inline-block !important;\n",
          "  position: relative;\n",
          "}\n",
          "\n",
          "#sk-container-id-4 div.sk-text-repr-fallback {\n",
          "  display: none;\n",
          "}\n",
          "\n",
          "div.sk-parallel-item,\n",
          "div.sk-serial,\n",
          "div.sk-item {\n",
          "  /* draw centered vertical line to link estimators */\n",
          "  background-image: linear-gradient(var(--sklearn-color-text-on-default-background), var(--sklearn-color-text-on-default-background));\n",
          "  background-size: 2px 100%;\n",
          "  background-repeat: no-repeat;\n",
          "  background-position: center center;\n",
          "}\n",
          "\n",
          "/* Parallel-specific style estimator block */\n",
          "\n",
          "#sk-container-id-4 div.sk-parallel-item::after {\n",
          "  content: \"\";\n",
          "  width: 100%;\n",
          "  border-bottom: 2px solid var(--sklearn-color-text-on-default-background);\n",
          "  flex-grow: 1;\n",
          "}\n",
          "\n",
          "#sk-container-id-4 div.sk-parallel {\n",
          "  display: flex;\n",
          "  align-items: stretch;\n",
          "  justify-content: center;\n",
          "  background-color: var(--sklearn-color-background);\n",
          "  position: relative;\n",
          "}\n",
          "\n",
          "#sk-container-id-4 div.sk-parallel-item {\n",
          "  display: flex;\n",
          "  flex-direction: column;\n",
          "}\n",
          "\n",
          "#sk-container-id-4 div.sk-parallel-item:first-child::after {\n",
          "  align-self: flex-end;\n",
          "  width: 50%;\n",
          "}\n",
          "\n",
          "#sk-container-id-4 div.sk-parallel-item:last-child::after {\n",
          "  align-self: flex-start;\n",
          "  width: 50%;\n",
          "}\n",
          "\n",
          "#sk-container-id-4 div.sk-parallel-item:only-child::after {\n",
          "  width: 0;\n",
          "}\n",
          "\n",
          "/* Serial-specific style estimator block */\n",
          "\n",
          "#sk-container-id-4 div.sk-serial {\n",
          "  display: flex;\n",
          "  flex-direction: column;\n",
          "  align-items: center;\n",
          "  background-color: var(--sklearn-color-background);\n",
          "  padding-right: 1em;\n",
          "  padding-left: 1em;\n",
          "}\n",
          "\n",
          "\n",
          "/* Toggleable style: style used for estimator/Pipeline/ColumnTransformer box that is\n",
          "clickable and can be expanded/collapsed.\n",
          "- Pipeline and ColumnTransformer use this feature and define the default style\n",
          "- Estimators will overwrite some part of the style using the `sk-estimator` class\n",
          "*/\n",
          "\n",
          "/* Pipeline and ColumnTransformer style (default) */\n",
          "\n",
          "#sk-container-id-4 div.sk-toggleable {\n",
          "  /* Default theme specific background. It is overwritten whether we have a\n",
          "  specific estimator or a Pipeline/ColumnTransformer */\n",
          "  background-color: var(--sklearn-color-background);\n",
          "}\n",
          "\n",
          "/* Toggleable label */\n",
          "#sk-container-id-4 label.sk-toggleable__label {\n",
          "  cursor: pointer;\n",
          "  display: block;\n",
          "  width: 100%;\n",
          "  margin-bottom: 0;\n",
          "  padding: 0.5em;\n",
          "  box-sizing: border-box;\n",
          "  text-align: center;\n",
          "}\n",
          "\n",
          "#sk-container-id-4 label.sk-toggleable__label-arrow:before {\n",
          "  /* Arrow on the left of the label */\n",
          "  content: \"▸\";\n",
          "  float: left;\n",
          "  margin-right: 0.25em;\n",
          "  color: var(--sklearn-color-icon);\n",
          "}\n",
          "\n",
          "#sk-container-id-4 label.sk-toggleable__label-arrow:hover:before {\n",
          "  color: var(--sklearn-color-text);\n",
          "}\n",
          "\n",
          "/* Toggleable content - dropdown */\n",
          "\n",
          "#sk-container-id-4 div.sk-toggleable__content {\n",
          "  max-height: 0;\n",
          "  max-width: 0;\n",
          "  overflow: hidden;\n",
          "  text-align: left;\n",
          "  /* unfitted */\n",
          "  background-color: var(--sklearn-color-unfitted-level-0);\n",
          "}\n",
          "\n",
          "#sk-container-id-4 div.sk-toggleable__content.fitted {\n",
          "  /* fitted */\n",
          "  background-color: var(--sklearn-color-fitted-level-0);\n",
          "}\n",
          "\n",
          "#sk-container-id-4 div.sk-toggleable__content pre {\n",
          "  margin: 0.2em;\n",
          "  border-radius: 0.25em;\n",
          "  color: var(--sklearn-color-text);\n",
          "  /* unfitted */\n",
          "  background-color: var(--sklearn-color-unfitted-level-0);\n",
          "}\n",
          "\n",
          "#sk-container-id-4 div.sk-toggleable__content.fitted pre {\n",
          "  /* unfitted */\n",
          "  background-color: var(--sklearn-color-fitted-level-0);\n",
          "}\n",
          "\n",
          "#sk-container-id-4 input.sk-toggleable__control:checked~div.sk-toggleable__content {\n",
          "  /* Expand drop-down */\n",
          "  max-height: 200px;\n",
          "  max-width: 100%;\n",
          "  overflow: auto;\n",
          "}\n",
          "\n",
          "#sk-container-id-4 input.sk-toggleable__control:checked~label.sk-toggleable__label-arrow:before {\n",
          "  content: \"▾\";\n",
          "}\n",
          "\n",
          "/* Pipeline/ColumnTransformer-specific style */\n",
          "\n",
          "#sk-container-id-4 div.sk-label input.sk-toggleable__control:checked~label.sk-toggleable__label {\n",
          "  color: var(--sklearn-color-text);\n",
          "  background-color: var(--sklearn-color-unfitted-level-2);\n",
          "}\n",
          "\n",
          "#sk-container-id-4 div.sk-label.fitted input.sk-toggleable__control:checked~label.sk-toggleable__label {\n",
          "  background-color: var(--sklearn-color-fitted-level-2);\n",
          "}\n",
          "\n",
          "/* Estimator-specific style */\n",
          "\n",
          "/* Colorize estimator box */\n",
          "#sk-container-id-4 div.sk-estimator input.sk-toggleable__control:checked~label.sk-toggleable__label {\n",
          "  /* unfitted */\n",
          "  background-color: var(--sklearn-color-unfitted-level-2);\n",
          "}\n",
          "\n",
          "#sk-container-id-4 div.sk-estimator.fitted input.sk-toggleable__control:checked~label.sk-toggleable__label {\n",
          "  /* fitted */\n",
          "  background-color: var(--sklearn-color-fitted-level-2);\n",
          "}\n",
          "\n",
          "#sk-container-id-4 div.sk-label label.sk-toggleable__label,\n",
          "#sk-container-id-4 div.sk-label label {\n",
          "  /* The background is the default theme color */\n",
          "  color: var(--sklearn-color-text-on-default-background);\n",
          "}\n",
          "\n",
          "/* On hover, darken the color of the background */\n",
          "#sk-container-id-4 div.sk-label:hover label.sk-toggleable__label {\n",
          "  color: var(--sklearn-color-text);\n",
          "  background-color: var(--sklearn-color-unfitted-level-2);\n",
          "}\n",
          "\n",
          "/* Label box, darken color on hover, fitted */\n",
          "#sk-container-id-4 div.sk-label.fitted:hover label.sk-toggleable__label.fitted {\n",
          "  color: var(--sklearn-color-text);\n",
          "  background-color: var(--sklearn-color-fitted-level-2);\n",
          "}\n",
          "\n",
          "/* Estimator label */\n",
          "\n",
          "#sk-container-id-4 div.sk-label label {\n",
          "  font-family: monospace;\n",
          "  font-weight: bold;\n",
          "  display: inline-block;\n",
          "  line-height: 1.2em;\n",
          "}\n",
          "\n",
          "#sk-container-id-4 div.sk-label-container {\n",
          "  text-align: center;\n",
          "}\n",
          "\n",
          "/* Estimator-specific */\n",
          "#sk-container-id-4 div.sk-estimator {\n",
          "  font-family: monospace;\n",
          "  border: 1px dotted var(--sklearn-color-border-box);\n",
          "  border-radius: 0.25em;\n",
          "  box-sizing: border-box;\n",
          "  margin-bottom: 0.5em;\n",
          "  /* unfitted */\n",
          "  background-color: var(--sklearn-color-unfitted-level-0);\n",
          "}\n",
          "\n",
          "#sk-container-id-4 div.sk-estimator.fitted {\n",
          "  /* fitted */\n",
          "  background-color: var(--sklearn-color-fitted-level-0);\n",
          "}\n",
          "\n",
          "/* on hover */\n",
          "#sk-container-id-4 div.sk-estimator:hover {\n",
          "  /* unfitted */\n",
          "  background-color: var(--sklearn-color-unfitted-level-2);\n",
          "}\n",
          "\n",
          "#sk-container-id-4 div.sk-estimator.fitted:hover {\n",
          "  /* fitted */\n",
          "  background-color: var(--sklearn-color-fitted-level-2);\n",
          "}\n",
          "\n",
          "/* Specification for estimator info (e.g. \"i\" and \"?\") */\n",
          "\n",
          "/* Common style for \"i\" and \"?\" */\n",
          "\n",
          ".sk-estimator-doc-link,\n",
          "a:link.sk-estimator-doc-link,\n",
          "a:visited.sk-estimator-doc-link {\n",
          "  float: right;\n",
          "  font-size: smaller;\n",
          "  line-height: 1em;\n",
          "  font-family: monospace;\n",
          "  background-color: var(--sklearn-color-background);\n",
          "  border-radius: 1em;\n",
          "  height: 1em;\n",
          "  width: 1em;\n",
          "  text-decoration: none !important;\n",
          "  margin-left: 1ex;\n",
          "  /* unfitted */\n",
          "  border: var(--sklearn-color-unfitted-level-1) 1pt solid;\n",
          "  color: var(--sklearn-color-unfitted-level-1);\n",
          "}\n",
          "\n",
          ".sk-estimator-doc-link.fitted,\n",
          "a:link.sk-estimator-doc-link.fitted,\n",
          "a:visited.sk-estimator-doc-link.fitted {\n",
          "  /* fitted */\n",
          "  border: var(--sklearn-color-fitted-level-1) 1pt solid;\n",
          "  color: var(--sklearn-color-fitted-level-1);\n",
          "}\n",
          "\n",
          "/* On hover */\n",
          "div.sk-estimator:hover .sk-estimator-doc-link:hover,\n",
          ".sk-estimator-doc-link:hover,\n",
          "div.sk-label-container:hover .sk-estimator-doc-link:hover,\n",
          ".sk-estimator-doc-link:hover {\n",
          "  /* unfitted */\n",
          "  background-color: var(--sklearn-color-unfitted-level-3);\n",
          "  color: var(--sklearn-color-background);\n",
          "  text-decoration: none;\n",
          "}\n",
          "\n",
          "div.sk-estimator.fitted:hover .sk-estimator-doc-link.fitted:hover,\n",
          ".sk-estimator-doc-link.fitted:hover,\n",
          "div.sk-label-container:hover .sk-estimator-doc-link.fitted:hover,\n",
          ".sk-estimator-doc-link.fitted:hover {\n",
          "  /* fitted */\n",
          "  background-color: var(--sklearn-color-fitted-level-3);\n",
          "  color: var(--sklearn-color-background);\n",
          "  text-decoration: none;\n",
          "}\n",
          "\n",
          "/* Span, style for the box shown on hovering the info icon */\n",
          ".sk-estimator-doc-link span {\n",
          "  display: none;\n",
          "  z-index: 9999;\n",
          "  position: relative;\n",
          "  font-weight: normal;\n",
          "  right: .2ex;\n",
          "  padding: .5ex;\n",
          "  margin: .5ex;\n",
          "  width: min-content;\n",
          "  min-width: 20ex;\n",
          "  max-width: 50ex;\n",
          "  color: var(--sklearn-color-text);\n",
          "  box-shadow: 2pt 2pt 4pt #999;\n",
          "  /* unfitted */\n",
          "  background: var(--sklearn-color-unfitted-level-0);\n",
          "  border: .5pt solid var(--sklearn-color-unfitted-level-3);\n",
          "}\n",
          "\n",
          ".sk-estimator-doc-link.fitted span {\n",
          "  /* fitted */\n",
          "  background: var(--sklearn-color-fitted-level-0);\n",
          "  border: var(--sklearn-color-fitted-level-3);\n",
          "}\n",
          "\n",
          ".sk-estimator-doc-link:hover span {\n",
          "  display: block;\n",
          "}\n",
          "\n",
          "/* \"?\"-specific style due to the `<a>` HTML tag */\n",
          "\n",
          "#sk-container-id-4 a.estimator_doc_link {\n",
          "  float: right;\n",
          "  font-size: 1rem;\n",
          "  line-height: 1em;\n",
          "  font-family: monospace;\n",
          "  background-color: var(--sklearn-color-background);\n",
          "  border-radius: 1rem;\n",
          "  height: 1rem;\n",
          "  width: 1rem;\n",
          "  text-decoration: none;\n",
          "  /* unfitted */\n",
          "  color: var(--sklearn-color-unfitted-level-1);\n",
          "  border: var(--sklearn-color-unfitted-level-1) 1pt solid;\n",
          "}\n",
          "\n",
          "#sk-container-id-4 a.estimator_doc_link.fitted {\n",
          "  /* fitted */\n",
          "  border: var(--sklearn-color-fitted-level-1) 1pt solid;\n",
          "  color: var(--sklearn-color-fitted-level-1);\n",
          "}\n",
          "\n",
          "/* On hover */\n",
          "#sk-container-id-4 a.estimator_doc_link:hover {\n",
          "  /* unfitted */\n",
          "  background-color: var(--sklearn-color-unfitted-level-3);\n",
          "  color: var(--sklearn-color-background);\n",
          "  text-decoration: none;\n",
          "}\n",
          "\n",
          "#sk-container-id-4 a.estimator_doc_link.fitted:hover {\n",
          "  /* fitted */\n",
          "  background-color: var(--sklearn-color-fitted-level-3);\n",
          "}\n",
          "</style><div id=\"sk-container-id-4\" class=\"sk-top-container\"><div class=\"sk-text-repr-fallback\"><pre>LogisticRegression()</pre><b>In a Jupyter environment, please rerun this cell to show the HTML representation or trust the notebook. <br />On GitHub, the HTML representation is unable to render, please try loading this page with nbviewer.org.</b></div><div class=\"sk-container\" hidden><div class=\"sk-item\"><div class=\"sk-estimator  sk-toggleable\"><input class=\"sk-toggleable__control sk-hidden--visually\" id=\"sk-estimator-id-4\" type=\"checkbox\" checked><label for=\"sk-estimator-id-4\" class=\"sk-toggleable__label  sk-toggleable__label-arrow \">&nbsp;&nbsp;LogisticRegression<a class=\"sk-estimator-doc-link \" rel=\"noreferrer\" target=\"_blank\" href=\"https://scikit-learn.org/1.5/modules/generated/sklearn.linear_model.LogisticRegression.html\">?<span>Documentation for LogisticRegression</span></a><span class=\"sk-estimator-doc-link \">i<span>Not fitted</span></span></label><div class=\"sk-toggleable__content \"><pre>LogisticRegression()</pre></div> </div></div></div></div>"
         ],
         "text/plain": [
          "LogisticRegression()"
         ]
        },
        "execution_count": 122,
        "metadata": {},
        "output_type": "execute_result"
       }
      ],
      "source": [
       "log_reg = LogisticRegression(max_iter=100)\n",
       "log_reg"
      ]
     },
     {
      "cell_type": "code",
      "execution_count": 123,
      "id": "01J9D5VMZZXK94RF9BTZACXWVQ",
      "metadata": {},
      "outputs": [
       {
        "data": {
         "text/html": [
          "<div>\n",
          "<style scoped>\n",
          "    .dataframe tbody tr th:only-of-type {\n",
          "        vertical-align: middle;\n",
          "    }\n",
          "\n",
          "    .dataframe tbody tr th {\n",
          "        vertical-align: top;\n",
          "    }\n",
          "\n",
          "    .dataframe thead th {\n",
          "        text-align: right;\n",
          "    }\n",
          "</style>\n",
          "<table border=\"1\" class=\"dataframe\">\n",
          "  <thead>\n",
          "    <tr style=\"text-align: right;\">\n",
          "      <th></th>\n",
          "      <th>Column0</th>\n",
          "      <th>Column1</th>\n",
          "      <th>Column2</th>\n",
          "      <th>Column3</th>\n",
          "      <th>Column4</th>\n",
          "      <th>Column5</th>\n",
          "      <th>Column6</th>\n",
          "      <th>Column7</th>\n",
          "      <th>Column8</th>\n",
          "      <th>Column10</th>\n",
          "      <th>...</th>\n",
          "      <th>Column12</th>\n",
          "      <th>Column13</th>\n",
          "      <th>Column14</th>\n",
          "      <th>Column15</th>\n",
          "      <th>Column16</th>\n",
          "      <th>Column17</th>\n",
          "      <th>Column18</th>\n",
          "      <th>Column19</th>\n",
          "      <th>Column20</th>\n",
          "      <th>Column21</th>\n",
          "    </tr>\n",
          "  </thead>\n",
          "  <tbody>\n",
          "    <tr>\n",
          "      <th>0</th>\n",
          "      <td>2.0</td>\n",
          "      <td>2495</td>\n",
          "      <td>3726.0</td>\n",
          "      <td>0.678139</td>\n",
          "      <td>0.701403</td>\n",
          "      <td>-0.007468</td>\n",
          "      <td>0.434190</td>\n",
          "      <td>-0.015603</td>\n",
          "      <td>0.606265</td>\n",
          "      <td>0</td>\n",
          "      <td>...</td>\n",
          "      <td>0</td>\n",
          "      <td>0</td>\n",
          "      <td>0.001351</td>\n",
          "      <td>0.00339</td>\n",
          "      <td>0.0</td>\n",
          "      <td>0</td>\n",
          "      <td>0.0</td>\n",
          "      <td>0</td>\n",
          "      <td>0</td>\n",
          "      <td>0</td>\n",
          "    </tr>\n",
          "    <tr>\n",
          "      <th>1</th>\n",
          "      <td>0.0</td>\n",
          "      <td>2495</td>\n",
          "      <td>3454.0</td>\n",
          "      <td>0.452580</td>\n",
          "      <td>0.701403</td>\n",
          "      <td>-0.007468</td>\n",
          "      <td>1.554998</td>\n",
          "      <td>-0.015574</td>\n",
          "      <td>0.329946</td>\n",
          "      <td>0</td>\n",
          "      <td>...</td>\n",
          "      <td>0</td>\n",
          "      <td>0</td>\n",
          "      <td>0.001351</td>\n",
          "      <td>0.00339</td>\n",
          "      <td>0.0</td>\n",
          "      <td>0</td>\n",
          "      <td>0.0</td>\n",
          "      <td>0</td>\n",
          "      <td>0</td>\n",
          "      <td>0</td>\n",
          "    </tr>\n",
          "    <tr>\n",
          "      <th>2</th>\n",
          "      <td>2.0</td>\n",
          "      <td>2495</td>\n",
          "      <td>4543.0</td>\n",
          "      <td>-1.577453</td>\n",
          "      <td>-1.429540</td>\n",
          "      <td>-0.007469</td>\n",
          "      <td>-0.407939</td>\n",
          "      <td>-0.015607</td>\n",
          "      <td>-0.774979</td>\n",
          "      <td>1</td>\n",
          "      <td>...</td>\n",
          "      <td>1</td>\n",
          "      <td>1</td>\n",
          "      <td>0.001351</td>\n",
          "      <td>0.00339</td>\n",
          "      <td>0.0</td>\n",
          "      <td>0</td>\n",
          "      <td>0.0</td>\n",
          "      <td>0</td>\n",
          "      <td>0</td>\n",
          "      <td>0</td>\n",
          "    </tr>\n",
          "    <tr>\n",
          "      <th>3</th>\n",
          "      <td>0.0</td>\n",
          "      <td>211</td>\n",
          "      <td>59.0</td>\n",
          "      <td>-1.803013</td>\n",
          "      <td>-1.642634</td>\n",
          "      <td>-0.007469</td>\n",
          "      <td>-0.407939</td>\n",
          "      <td>-0.015607</td>\n",
          "      <td>-0.774979</td>\n",
          "      <td>0</td>\n",
          "      <td>...</td>\n",
          "      <td>0</td>\n",
          "      <td>0</td>\n",
          "      <td>0.001351</td>\n",
          "      <td>0.00339</td>\n",
          "      <td>0.0</td>\n",
          "      <td>0</td>\n",
          "      <td>1.0</td>\n",
          "      <td>0</td>\n",
          "      <td>0</td>\n",
          "      <td>0</td>\n",
          "    </tr>\n",
          "    <tr>\n",
          "      <th>4</th>\n",
          "      <td>0.0</td>\n",
          "      <td>718</td>\n",
          "      <td>950.0</td>\n",
          "      <td>-2.028572</td>\n",
          "      <td>-1.855728</td>\n",
          "      <td>-0.007469</td>\n",
          "      <td>-0.407939</td>\n",
          "      <td>-0.015607</td>\n",
          "      <td>-0.774979</td>\n",
          "      <td>0</td>\n",
          "      <td>...</td>\n",
          "      <td>0</td>\n",
          "      <td>0</td>\n",
          "      <td>0.001351</td>\n",
          "      <td>0.00339</td>\n",
          "      <td>0.0</td>\n",
          "      <td>0</td>\n",
          "      <td>0.0</td>\n",
          "      <td>0</td>\n",
          "      <td>0</td>\n",
          "      <td>0</td>\n",
          "    </tr>\n",
          "  </tbody>\n",
          "</table>\n",
          "<p>5 rows × 21 columns</p>\n",
          "</div>"
         ],
         "text/plain": [
          "   Column0  Column1  Column2   Column3   Column4   Column5   Column6  \\\n",
          "0      2.0     2495   3726.0  0.678139  0.701403 -0.007468  0.434190   \n",
          "1      0.0     2495   3454.0  0.452580  0.701403 -0.007468  1.554998   \n",
          "2      2.0     2495   4543.0 -1.577453 -1.429540 -0.007469 -0.407939   \n",
          "3      0.0      211     59.0 -1.803013 -1.642634 -0.007469 -0.407939   \n",
          "4      0.0      718    950.0 -2.028572 -1.855728 -0.007469 -0.407939   \n",
          "\n",
          "    Column7   Column8  Column10  ...  Column12  Column13  Column14  Column15  \\\n",
          "0 -0.015603  0.606265         0  ...         0         0  0.001351   0.00339   \n",
          "1 -0.015574  0.329946         0  ...         0         0  0.001351   0.00339   \n",
          "2 -0.015607 -0.774979         1  ...         1         1  0.001351   0.00339   \n",
          "3 -0.015607 -0.774979         0  ...         0         0  0.001351   0.00339   \n",
          "4 -0.015607 -0.774979         0  ...         0         0  0.001351   0.00339   \n",
          "\n",
          "   Column16  Column17  Column18  Column19  Column20  Column21  \n",
          "0       0.0         0       0.0         0         0         0  \n",
          "1       0.0         0       0.0         0         0         0  \n",
          "2       0.0         0       0.0         0         0         0  \n",
          "3       0.0         0       1.0         0         0         0  \n",
          "4       0.0         0       0.0         0         0         0  \n",
          "\n",
          "[5 rows x 21 columns]"
         ]
        },
        "execution_count": 123,
        "metadata": {},
        "output_type": "execute_result"
       }
      ],
      "source": [
       "(x_train_df.head(5)) "
      ]
     },
     {
      "cell_type": "code",
      "execution_count": 124,
      "metadata": {},
      "outputs": [
       {
        "data": {
         "text/html": [
          "<style>#sk-container-id-5 {\n",
          "  /* Definition of color scheme common for light and dark mode */\n",
          "  --sklearn-color-text: black;\n",
          "  --sklearn-color-line: gray;\n",
          "  /* Definition of color scheme for unfitted estimators */\n",
          "  --sklearn-color-unfitted-level-0: #fff5e6;\n",
          "  --sklearn-color-unfitted-level-1: #f6e4d2;\n",
          "  --sklearn-color-unfitted-level-2: #ffe0b3;\n",
          "  --sklearn-color-unfitted-level-3: chocolate;\n",
          "  /* Definition of color scheme for fitted estimators */\n",
          "  --sklearn-color-fitted-level-0: #f0f8ff;\n",
          "  --sklearn-color-fitted-level-1: #d4ebff;\n",
          "  --sklearn-color-fitted-level-2: #b3dbfd;\n",
          "  --sklearn-color-fitted-level-3: cornflowerblue;\n",
          "\n",
          "  /* Specific color for light theme */\n",
          "  --sklearn-color-text-on-default-background: var(--sg-text-color, var(--theme-code-foreground, var(--jp-content-font-color1, black)));\n",
          "  --sklearn-color-background: var(--sg-background-color, var(--theme-background, var(--jp-layout-color0, white)));\n",
          "  --sklearn-color-border-box: var(--sg-text-color, var(--theme-code-foreground, var(--jp-content-font-color1, black)));\n",
          "  --sklearn-color-icon: #696969;\n",
          "\n",
          "  @media (prefers-color-scheme: dark) {\n",
          "    /* Redefinition of color scheme for dark theme */\n",
          "    --sklearn-color-text-on-default-background: var(--sg-text-color, var(--theme-code-foreground, var(--jp-content-font-color1, white)));\n",
          "    --sklearn-color-background: var(--sg-background-color, var(--theme-background, var(--jp-layout-color0, #111)));\n",
          "    --sklearn-color-border-box: var(--sg-text-color, var(--theme-code-foreground, var(--jp-content-font-color1, white)));\n",
          "    --sklearn-color-icon: #878787;\n",
          "  }\n",
          "}\n",
          "\n",
          "#sk-container-id-5 {\n",
          "  color: var(--sklearn-color-text);\n",
          "}\n",
          "\n",
          "#sk-container-id-5 pre {\n",
          "  padding: 0;\n",
          "}\n",
          "\n",
          "#sk-container-id-5 input.sk-hidden--visually {\n",
          "  border: 0;\n",
          "  clip: rect(1px 1px 1px 1px);\n",
          "  clip: rect(1px, 1px, 1px, 1px);\n",
          "  height: 1px;\n",
          "  margin: -1px;\n",
          "  overflow: hidden;\n",
          "  padding: 0;\n",
          "  position: absolute;\n",
          "  width: 1px;\n",
          "}\n",
          "\n",
          "#sk-container-id-5 div.sk-dashed-wrapped {\n",
          "  border: 1px dashed var(--sklearn-color-line);\n",
          "  margin: 0 0.4em 0.5em 0.4em;\n",
          "  box-sizing: border-box;\n",
          "  padding-bottom: 0.4em;\n",
          "  background-color: var(--sklearn-color-background);\n",
          "}\n",
          "\n",
          "#sk-container-id-5 div.sk-container {\n",
          "  /* jupyter's `normalize.less` sets `[hidden] { display: none; }`\n",
          "     but bootstrap.min.css set `[hidden] { display: none !important; }`\n",
          "     so we also need the `!important` here to be able to override the\n",
          "     default hidden behavior on the sphinx rendered scikit-learn.org.\n",
          "     See: https://github.com/scikit-learn/scikit-learn/issues/21755 */\n",
          "  display: inline-block !important;\n",
          "  position: relative;\n",
          "}\n",
          "\n",
          "#sk-container-id-5 div.sk-text-repr-fallback {\n",
          "  display: none;\n",
          "}\n",
          "\n",
          "div.sk-parallel-item,\n",
          "div.sk-serial,\n",
          "div.sk-item {\n",
          "  /* draw centered vertical line to link estimators */\n",
          "  background-image: linear-gradient(var(--sklearn-color-text-on-default-background), var(--sklearn-color-text-on-default-background));\n",
          "  background-size: 2px 100%;\n",
          "  background-repeat: no-repeat;\n",
          "  background-position: center center;\n",
          "}\n",
          "\n",
          "/* Parallel-specific style estimator block */\n",
          "\n",
          "#sk-container-id-5 div.sk-parallel-item::after {\n",
          "  content: \"\";\n",
          "  width: 100%;\n",
          "  border-bottom: 2px solid var(--sklearn-color-text-on-default-background);\n",
          "  flex-grow: 1;\n",
          "}\n",
          "\n",
          "#sk-container-id-5 div.sk-parallel {\n",
          "  display: flex;\n",
          "  align-items: stretch;\n",
          "  justify-content: center;\n",
          "  background-color: var(--sklearn-color-background);\n",
          "  position: relative;\n",
          "}\n",
          "\n",
          "#sk-container-id-5 div.sk-parallel-item {\n",
          "  display: flex;\n",
          "  flex-direction: column;\n",
          "}\n",
          "\n",
          "#sk-container-id-5 div.sk-parallel-item:first-child::after {\n",
          "  align-self: flex-end;\n",
          "  width: 50%;\n",
          "}\n",
          "\n",
          "#sk-container-id-5 div.sk-parallel-item:last-child::after {\n",
          "  align-self: flex-start;\n",
          "  width: 50%;\n",
          "}\n",
          "\n",
          "#sk-container-id-5 div.sk-parallel-item:only-child::after {\n",
          "  width: 0;\n",
          "}\n",
          "\n",
          "/* Serial-specific style estimator block */\n",
          "\n",
          "#sk-container-id-5 div.sk-serial {\n",
          "  display: flex;\n",
          "  flex-direction: column;\n",
          "  align-items: center;\n",
          "  background-color: var(--sklearn-color-background);\n",
          "  padding-right: 1em;\n",
          "  padding-left: 1em;\n",
          "}\n",
          "\n",
          "\n",
          "/* Toggleable style: style used for estimator/Pipeline/ColumnTransformer box that is\n",
          "clickable and can be expanded/collapsed.\n",
          "- Pipeline and ColumnTransformer use this feature and define the default style\n",
          "- Estimators will overwrite some part of the style using the `sk-estimator` class\n",
          "*/\n",
          "\n",
          "/* Pipeline and ColumnTransformer style (default) */\n",
          "\n",
          "#sk-container-id-5 div.sk-toggleable {\n",
          "  /* Default theme specific background. It is overwritten whether we have a\n",
          "  specific estimator or a Pipeline/ColumnTransformer */\n",
          "  background-color: var(--sklearn-color-background);\n",
          "}\n",
          "\n",
          "/* Toggleable label */\n",
          "#sk-container-id-5 label.sk-toggleable__label {\n",
          "  cursor: pointer;\n",
          "  display: block;\n",
          "  width: 100%;\n",
          "  margin-bottom: 0;\n",
          "  padding: 0.5em;\n",
          "  box-sizing: border-box;\n",
          "  text-align: center;\n",
          "}\n",
          "\n",
          "#sk-container-id-5 label.sk-toggleable__label-arrow:before {\n",
          "  /* Arrow on the left of the label */\n",
          "  content: \"▸\";\n",
          "  float: left;\n",
          "  margin-right: 0.25em;\n",
          "  color: var(--sklearn-color-icon);\n",
          "}\n",
          "\n",
          "#sk-container-id-5 label.sk-toggleable__label-arrow:hover:before {\n",
          "  color: var(--sklearn-color-text);\n",
          "}\n",
          "\n",
          "/* Toggleable content - dropdown */\n",
          "\n",
          "#sk-container-id-5 div.sk-toggleable__content {\n",
          "  max-height: 0;\n",
          "  max-width: 0;\n",
          "  overflow: hidden;\n",
          "  text-align: left;\n",
          "  /* unfitted */\n",
          "  background-color: var(--sklearn-color-unfitted-level-0);\n",
          "}\n",
          "\n",
          "#sk-container-id-5 div.sk-toggleable__content.fitted {\n",
          "  /* fitted */\n",
          "  background-color: var(--sklearn-color-fitted-level-0);\n",
          "}\n",
          "\n",
          "#sk-container-id-5 div.sk-toggleable__content pre {\n",
          "  margin: 0.2em;\n",
          "  border-radius: 0.25em;\n",
          "  color: var(--sklearn-color-text);\n",
          "  /* unfitted */\n",
          "  background-color: var(--sklearn-color-unfitted-level-0);\n",
          "}\n",
          "\n",
          "#sk-container-id-5 div.sk-toggleable__content.fitted pre {\n",
          "  /* unfitted */\n",
          "  background-color: var(--sklearn-color-fitted-level-0);\n",
          "}\n",
          "\n",
          "#sk-container-id-5 input.sk-toggleable__control:checked~div.sk-toggleable__content {\n",
          "  /* Expand drop-down */\n",
          "  max-height: 200px;\n",
          "  max-width: 100%;\n",
          "  overflow: auto;\n",
          "}\n",
          "\n",
          "#sk-container-id-5 input.sk-toggleable__control:checked~label.sk-toggleable__label-arrow:before {\n",
          "  content: \"▾\";\n",
          "}\n",
          "\n",
          "/* Pipeline/ColumnTransformer-specific style */\n",
          "\n",
          "#sk-container-id-5 div.sk-label input.sk-toggleable__control:checked~label.sk-toggleable__label {\n",
          "  color: var(--sklearn-color-text);\n",
          "  background-color: var(--sklearn-color-unfitted-level-2);\n",
          "}\n",
          "\n",
          "#sk-container-id-5 div.sk-label.fitted input.sk-toggleable__control:checked~label.sk-toggleable__label {\n",
          "  background-color: var(--sklearn-color-fitted-level-2);\n",
          "}\n",
          "\n",
          "/* Estimator-specific style */\n",
          "\n",
          "/* Colorize estimator box */\n",
          "#sk-container-id-5 div.sk-estimator input.sk-toggleable__control:checked~label.sk-toggleable__label {\n",
          "  /* unfitted */\n",
          "  background-color: var(--sklearn-color-unfitted-level-2);\n",
          "}\n",
          "\n",
          "#sk-container-id-5 div.sk-estimator.fitted input.sk-toggleable__control:checked~label.sk-toggleable__label {\n",
          "  /* fitted */\n",
          "  background-color: var(--sklearn-color-fitted-level-2);\n",
          "}\n",
          "\n",
          "#sk-container-id-5 div.sk-label label.sk-toggleable__label,\n",
          "#sk-container-id-5 div.sk-label label {\n",
          "  /* The background is the default theme color */\n",
          "  color: var(--sklearn-color-text-on-default-background);\n",
          "}\n",
          "\n",
          "/* On hover, darken the color of the background */\n",
          "#sk-container-id-5 div.sk-label:hover label.sk-toggleable__label {\n",
          "  color: var(--sklearn-color-text);\n",
          "  background-color: var(--sklearn-color-unfitted-level-2);\n",
          "}\n",
          "\n",
          "/* Label box, darken color on hover, fitted */\n",
          "#sk-container-id-5 div.sk-label.fitted:hover label.sk-toggleable__label.fitted {\n",
          "  color: var(--sklearn-color-text);\n",
          "  background-color: var(--sklearn-color-fitted-level-2);\n",
          "}\n",
          "\n",
          "/* Estimator label */\n",
          "\n",
          "#sk-container-id-5 div.sk-label label {\n",
          "  font-family: monospace;\n",
          "  font-weight: bold;\n",
          "  display: inline-block;\n",
          "  line-height: 1.2em;\n",
          "}\n",
          "\n",
          "#sk-container-id-5 div.sk-label-container {\n",
          "  text-align: center;\n",
          "}\n",
          "\n",
          "/* Estimator-specific */\n",
          "#sk-container-id-5 div.sk-estimator {\n",
          "  font-family: monospace;\n",
          "  border: 1px dotted var(--sklearn-color-border-box);\n",
          "  border-radius: 0.25em;\n",
          "  box-sizing: border-box;\n",
          "  margin-bottom: 0.5em;\n",
          "  /* unfitted */\n",
          "  background-color: var(--sklearn-color-unfitted-level-0);\n",
          "}\n",
          "\n",
          "#sk-container-id-5 div.sk-estimator.fitted {\n",
          "  /* fitted */\n",
          "  background-color: var(--sklearn-color-fitted-level-0);\n",
          "}\n",
          "\n",
          "/* on hover */\n",
          "#sk-container-id-5 div.sk-estimator:hover {\n",
          "  /* unfitted */\n",
          "  background-color: var(--sklearn-color-unfitted-level-2);\n",
          "}\n",
          "\n",
          "#sk-container-id-5 div.sk-estimator.fitted:hover {\n",
          "  /* fitted */\n",
          "  background-color: var(--sklearn-color-fitted-level-2);\n",
          "}\n",
          "\n",
          "/* Specification for estimator info (e.g. \"i\" and \"?\") */\n",
          "\n",
          "/* Common style for \"i\" and \"?\" */\n",
          "\n",
          ".sk-estimator-doc-link,\n",
          "a:link.sk-estimator-doc-link,\n",
          "a:visited.sk-estimator-doc-link {\n",
          "  float: right;\n",
          "  font-size: smaller;\n",
          "  line-height: 1em;\n",
          "  font-family: monospace;\n",
          "  background-color: var(--sklearn-color-background);\n",
          "  border-radius: 1em;\n",
          "  height: 1em;\n",
          "  width: 1em;\n",
          "  text-decoration: none !important;\n",
          "  margin-left: 1ex;\n",
          "  /* unfitted */\n",
          "  border: var(--sklearn-color-unfitted-level-1) 1pt solid;\n",
          "  color: var(--sklearn-color-unfitted-level-1);\n",
          "}\n",
          "\n",
          ".sk-estimator-doc-link.fitted,\n",
          "a:link.sk-estimator-doc-link.fitted,\n",
          "a:visited.sk-estimator-doc-link.fitted {\n",
          "  /* fitted */\n",
          "  border: var(--sklearn-color-fitted-level-1) 1pt solid;\n",
          "  color: var(--sklearn-color-fitted-level-1);\n",
          "}\n",
          "\n",
          "/* On hover */\n",
          "div.sk-estimator:hover .sk-estimator-doc-link:hover,\n",
          ".sk-estimator-doc-link:hover,\n",
          "div.sk-label-container:hover .sk-estimator-doc-link:hover,\n",
          ".sk-estimator-doc-link:hover {\n",
          "  /* unfitted */\n",
          "  background-color: var(--sklearn-color-unfitted-level-3);\n",
          "  color: var(--sklearn-color-background);\n",
          "  text-decoration: none;\n",
          "}\n",
          "\n",
          "div.sk-estimator.fitted:hover .sk-estimator-doc-link.fitted:hover,\n",
          ".sk-estimator-doc-link.fitted:hover,\n",
          "div.sk-label-container:hover .sk-estimator-doc-link.fitted:hover,\n",
          ".sk-estimator-doc-link.fitted:hover {\n",
          "  /* fitted */\n",
          "  background-color: var(--sklearn-color-fitted-level-3);\n",
          "  color: var(--sklearn-color-background);\n",
          "  text-decoration: none;\n",
          "}\n",
          "\n",
          "/* Span, style for the box shown on hovering the info icon */\n",
          ".sk-estimator-doc-link span {\n",
          "  display: none;\n",
          "  z-index: 9999;\n",
          "  position: relative;\n",
          "  font-weight: normal;\n",
          "  right: .2ex;\n",
          "  padding: .5ex;\n",
          "  margin: .5ex;\n",
          "  width: min-content;\n",
          "  min-width: 20ex;\n",
          "  max-width: 50ex;\n",
          "  color: var(--sklearn-color-text);\n",
          "  box-shadow: 2pt 2pt 4pt #999;\n",
          "  /* unfitted */\n",
          "  background: var(--sklearn-color-unfitted-level-0);\n",
          "  border: .5pt solid var(--sklearn-color-unfitted-level-3);\n",
          "}\n",
          "\n",
          ".sk-estimator-doc-link.fitted span {\n",
          "  /* fitted */\n",
          "  background: var(--sklearn-color-fitted-level-0);\n",
          "  border: var(--sklearn-color-fitted-level-3);\n",
          "}\n",
          "\n",
          ".sk-estimator-doc-link:hover span {\n",
          "  display: block;\n",
          "}\n",
          "\n",
          "/* \"?\"-specific style due to the `<a>` HTML tag */\n",
          "\n",
          "#sk-container-id-5 a.estimator_doc_link {\n",
          "  float: right;\n",
          "  font-size: 1rem;\n",
          "  line-height: 1em;\n",
          "  font-family: monospace;\n",
          "  background-color: var(--sklearn-color-background);\n",
          "  border-radius: 1rem;\n",
          "  height: 1rem;\n",
          "  width: 1rem;\n",
          "  text-decoration: none;\n",
          "  /* unfitted */\n",
          "  color: var(--sklearn-color-unfitted-level-1);\n",
          "  border: var(--sklearn-color-unfitted-level-1) 1pt solid;\n",
          "}\n",
          "\n",
          "#sk-container-id-5 a.estimator_doc_link.fitted {\n",
          "  /* fitted */\n",
          "  border: var(--sklearn-color-fitted-level-1) 1pt solid;\n",
          "  color: var(--sklearn-color-fitted-level-1);\n",
          "}\n",
          "\n",
          "/* On hover */\n",
          "#sk-container-id-5 a.estimator_doc_link:hover {\n",
          "  /* unfitted */\n",
          "  background-color: var(--sklearn-color-unfitted-level-3);\n",
          "  color: var(--sklearn-color-background);\n",
          "  text-decoration: none;\n",
          "}\n",
          "\n",
          "#sk-container-id-5 a.estimator_doc_link.fitted:hover {\n",
          "  /* fitted */\n",
          "  background-color: var(--sklearn-color-fitted-level-3);\n",
          "}\n",
          "</style><div id=\"sk-container-id-5\" class=\"sk-top-container\"><div class=\"sk-text-repr-fallback\"><pre>LogisticRegression()</pre><b>In a Jupyter environment, please rerun this cell to show the HTML representation or trust the notebook. <br />On GitHub, the HTML representation is unable to render, please try loading this page with nbviewer.org.</b></div><div class=\"sk-container\" hidden><div class=\"sk-item\"><div class=\"sk-estimator fitted sk-toggleable\"><input class=\"sk-toggleable__control sk-hidden--visually\" id=\"sk-estimator-id-5\" type=\"checkbox\" checked><label for=\"sk-estimator-id-5\" class=\"sk-toggleable__label fitted sk-toggleable__label-arrow fitted\">&nbsp;&nbsp;LogisticRegression<a class=\"sk-estimator-doc-link fitted\" rel=\"noreferrer\" target=\"_blank\" href=\"https://scikit-learn.org/1.5/modules/generated/sklearn.linear_model.LogisticRegression.html\">?<span>Documentation for LogisticRegression</span></a><span class=\"sk-estimator-doc-link fitted\">i<span>Fitted</span></span></label><div class=\"sk-toggleable__content fitted\"><pre>LogisticRegression()</pre></div> </div></div></div></div>"
         ],
         "text/plain": [
          "LogisticRegression()"
         ]
        },
        "execution_count": 124,
        "metadata": {},
        "output_type": "execute_result"
       }
      ],
      "source": [
       "log_reg.fit(x_train_df, y_train_df['target'])\n"
      ]
     },
     {
      "cell_type": "code",
      "execution_count": 126,
      "metadata": {},
      "outputs": [
       {
        "name": "stdout",
        "output_type": "stream",
        "text": [
         "Accuracy: 0.9668872653909641\n"
        ]
       }
      ],
      "source": [
       "from sklearn.metrics import accuracy_score\n",
       "\n",
       "y_pred = log_reg.predict(x_test_df)\n",
       "accuracy = accuracy_score(y_test_df['target'], y_pred)\n",
       "print(f'Accuracy: {accuracy}')\n"
      ]
     },
     {
      "cell_type": "code",
      "execution_count": null,
      "metadata": {},
      "outputs": [],
      "source": []
     }
    ],
    "metadata": {
     "kernelspec": {
      "display_name": "Python 3",
      "language": "python",
      "name": "python3"
     },
     "language_info": {
      "codemirror_mode": {
       "name": "ipython",
       "version": 3
      },
      "file_extension": ".py",
      "mimetype": "text/x-python",
      "name": "python",
      "nbconvert_exporter": "python",
      "pygments_lexer": "ipython3",
      "version": "3.12.1"
     }
    },
    "nbformat": 4,
    "nbformat_minor": 4
   }
   