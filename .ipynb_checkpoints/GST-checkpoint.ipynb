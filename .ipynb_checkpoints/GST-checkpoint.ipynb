{
 "cells": [
  {
   "cell_type": "markdown",
   "metadata": {},
   "source": [
    "Importing the necessary libraries"
   ]
  },
  {
   "cell_type": "code",
   "execution_count": 1,
   "metadata": {},
   "outputs": [],
   "source": [
    "\n",
    "\n",
    "import pandas as pd\n"
   ]
  },
  {
   "cell_type": "markdown",
   "metadata": {},
   "source": [
    "Reading the Training DataSet and printing the first five rows"
   ]
  },
  {
   "cell_type": "code",
   "execution_count": 2,
   "metadata": {},
   "outputs": [
    {
     "data": {
      "text/html": [
       "<div>\n",
       "<style scoped>\n",
       "    .dataframe tbody tr th:only-of-type {\n",
       "        vertical-align: middle;\n",
       "    }\n",
       "\n",
       "    .dataframe tbody tr th {\n",
       "        vertical-align: top;\n",
       "    }\n",
       "\n",
       "    .dataframe thead th {\n",
       "        text-align: right;\n",
       "    }\n",
       "</style>\n",
       "<table border=\"1\" class=\"dataframe\">\n",
       "  <thead>\n",
       "    <tr style=\"text-align: right;\">\n",
       "      <th></th>\n",
       "      <th>ID</th>\n",
       "      <th>Column0</th>\n",
       "      <th>Column1</th>\n",
       "      <th>Column2</th>\n",
       "      <th>Column3</th>\n",
       "      <th>Column4</th>\n",
       "      <th>Column5</th>\n",
       "      <th>Column6</th>\n",
       "      <th>Column7</th>\n",
       "      <th>Column8</th>\n",
       "      <th>...</th>\n",
       "      <th>Column12</th>\n",
       "      <th>Column13</th>\n",
       "      <th>Column14</th>\n",
       "      <th>Column15</th>\n",
       "      <th>Column16</th>\n",
       "      <th>Column17</th>\n",
       "      <th>Column18</th>\n",
       "      <th>Column19</th>\n",
       "      <th>Column20</th>\n",
       "      <th>Column21</th>\n",
       "    </tr>\n",
       "  </thead>\n",
       "  <tbody>\n",
       "    <tr>\n",
       "      <th>0</th>\n",
       "      <td>ad1a67e4cbddc767a3456b0d94299b9e</td>\n",
       "      <td>2.0</td>\n",
       "      <td>2495</td>\n",
       "      <td>3726.0</td>\n",
       "      <td>0.678139</td>\n",
       "      <td>0.701403</td>\n",
       "      <td>-0.007468</td>\n",
       "      <td>0.434190</td>\n",
       "      <td>-0.015603</td>\n",
       "      <td>0.606265</td>\n",
       "      <td>...</td>\n",
       "      <td>0</td>\n",
       "      <td>0</td>\n",
       "      <td>0.001351</td>\n",
       "      <td>0.00339</td>\n",
       "      <td>0.0</td>\n",
       "      <td>0</td>\n",
       "      <td>0.0</td>\n",
       "      <td>0</td>\n",
       "      <td>0</td>\n",
       "      <td>0</td>\n",
       "    </tr>\n",
       "    <tr>\n",
       "      <th>1</th>\n",
       "      <td>7246d2f76ac0c217ec25e72ea5f014cb</td>\n",
       "      <td>0.0</td>\n",
       "      <td>2495</td>\n",
       "      <td>3454.0</td>\n",
       "      <td>0.452580</td>\n",
       "      <td>0.701403</td>\n",
       "      <td>-0.007468</td>\n",
       "      <td>1.554998</td>\n",
       "      <td>-0.015574</td>\n",
       "      <td>0.329946</td>\n",
       "      <td>...</td>\n",
       "      <td>0</td>\n",
       "      <td>0</td>\n",
       "      <td>0.001351</td>\n",
       "      <td>0.00339</td>\n",
       "      <td>0.0</td>\n",
       "      <td>0</td>\n",
       "      <td>0.0</td>\n",
       "      <td>0</td>\n",
       "      <td>0</td>\n",
       "      <td>0</td>\n",
       "    </tr>\n",
       "    <tr>\n",
       "      <th>2</th>\n",
       "      <td>22ba388e7dd14c13342c49e75fc29dda</td>\n",
       "      <td>2.0</td>\n",
       "      <td>2495</td>\n",
       "      <td>4543.0</td>\n",
       "      <td>-1.577453</td>\n",
       "      <td>-1.429540</td>\n",
       "      <td>-0.007469</td>\n",
       "      <td>-0.407939</td>\n",
       "      <td>-0.015607</td>\n",
       "      <td>-0.774979</td>\n",
       "      <td>...</td>\n",
       "      <td>1</td>\n",
       "      <td>1</td>\n",
       "      <td>0.001351</td>\n",
       "      <td>0.00339</td>\n",
       "      <td>0.0</td>\n",
       "      <td>0</td>\n",
       "      <td>0.0</td>\n",
       "      <td>0</td>\n",
       "      <td>0</td>\n",
       "      <td>0</td>\n",
       "    </tr>\n",
       "    <tr>\n",
       "      <th>3</th>\n",
       "      <td>59f9b981472d97342587fb3e6392aeb1</td>\n",
       "      <td>0.0</td>\n",
       "      <td>211</td>\n",
       "      <td>59.0</td>\n",
       "      <td>NaN</td>\n",
       "      <td>NaN</td>\n",
       "      <td>NaN</td>\n",
       "      <td>-0.407939</td>\n",
       "      <td>-0.015607</td>\n",
       "      <td>-0.774979</td>\n",
       "      <td>...</td>\n",
       "      <td>0</td>\n",
       "      <td>0</td>\n",
       "      <td>NaN</td>\n",
       "      <td>0.00339</td>\n",
       "      <td>0.0</td>\n",
       "      <td>0</td>\n",
       "      <td>1.0</td>\n",
       "      <td>0</td>\n",
       "      <td>0</td>\n",
       "      <td>0</td>\n",
       "    </tr>\n",
       "    <tr>\n",
       "      <th>4</th>\n",
       "      <td>f6317cf7ecf126859804eddff279aead</td>\n",
       "      <td>0.0</td>\n",
       "      <td>718</td>\n",
       "      <td>950.0</td>\n",
       "      <td>-2.028572</td>\n",
       "      <td>-1.855728</td>\n",
       "      <td>NaN</td>\n",
       "      <td>-0.407939</td>\n",
       "      <td>-0.015607</td>\n",
       "      <td>-0.774979</td>\n",
       "      <td>...</td>\n",
       "      <td>0</td>\n",
       "      <td>0</td>\n",
       "      <td>NaN</td>\n",
       "      <td>0.00339</td>\n",
       "      <td>0.0</td>\n",
       "      <td>0</td>\n",
       "      <td>0.0</td>\n",
       "      <td>0</td>\n",
       "      <td>0</td>\n",
       "      <td>0</td>\n",
       "    </tr>\n",
       "  </tbody>\n",
       "</table>\n",
       "<p>5 rows × 23 columns</p>\n",
       "</div>"
      ],
      "text/plain": [
       "                                 ID  Column0  Column1  Column2   Column3  \\\n",
       "0  ad1a67e4cbddc767a3456b0d94299b9e      2.0     2495   3726.0  0.678139   \n",
       "1  7246d2f76ac0c217ec25e72ea5f014cb      0.0     2495   3454.0  0.452580   \n",
       "2  22ba388e7dd14c13342c49e75fc29dda      2.0     2495   4543.0 -1.577453   \n",
       "3  59f9b981472d97342587fb3e6392aeb1      0.0      211     59.0       NaN   \n",
       "4  f6317cf7ecf126859804eddff279aead      0.0      718    950.0 -2.028572   \n",
       "\n",
       "    Column4   Column5   Column6   Column7   Column8  ...  Column12  Column13  \\\n",
       "0  0.701403 -0.007468  0.434190 -0.015603  0.606265  ...         0         0   \n",
       "1  0.701403 -0.007468  1.554998 -0.015574  0.329946  ...         0         0   \n",
       "2 -1.429540 -0.007469 -0.407939 -0.015607 -0.774979  ...         1         1   \n",
       "3       NaN       NaN -0.407939 -0.015607 -0.774979  ...         0         0   \n",
       "4 -1.855728       NaN -0.407939 -0.015607 -0.774979  ...         0         0   \n",
       "\n",
       "   Column14  Column15  Column16  Column17  Column18  Column19  Column20  \\\n",
       "0  0.001351   0.00339       0.0         0       0.0         0         0   \n",
       "1  0.001351   0.00339       0.0         0       0.0         0         0   \n",
       "2  0.001351   0.00339       0.0         0       0.0         0         0   \n",
       "3       NaN   0.00339       0.0         0       1.0         0         0   \n",
       "4       NaN   0.00339       0.0         0       0.0         0         0   \n",
       "\n",
       "   Column21  \n",
       "0         0  \n",
       "1         0  \n",
       "2         0  \n",
       "3         0  \n",
       "4         0  \n",
       "\n",
       "[5 rows x 23 columns]"
      ]
     },
     "execution_count": 2,
     "metadata": {},
     "output_type": "execute_result"
    }
   ],
   "source": [
    "x_train_df=pd.read_csv(\"data\\\\Train_60\\\\Train_60\\\\X_Train_Data_Input.csv\")\n",
    "x_train_df.head(5)"
   ]
  },
  {
   "cell_type": "markdown",
   "metadata": {},
   "source": [
    "Checking all the columns"
   ]
  },
  {
   "cell_type": "code",
   "execution_count": 3,
   "metadata": {},
   "outputs": [
    {
     "data": {
      "text/plain": [
       "Index(['ID', 'Column0', 'Column1', 'Column2', 'Column3', 'Column4', 'Column5',\n",
       "       'Column6', 'Column7', 'Column8', 'Column9', 'Column10', 'Column11',\n",
       "       'Column12', 'Column13', 'Column14', 'Column15', 'Column16', 'Column17',\n",
       "       'Column18', 'Column19', 'Column20', 'Column21'],\n",
       "      dtype='object')"
      ]
     },
     "execution_count": 3,
     "metadata": {},
     "output_type": "execute_result"
    }
   ],
   "source": [
    "x_train_df.columns"
   ]
  },
  {
   "cell_type": "markdown",
   "metadata": {},
   "source": [
    "Getting familar with the shape of the dataframe"
   ]
  },
  {
   "cell_type": "code",
   "execution_count": 4,
   "metadata": {},
   "outputs": [
    {
     "name": "stdout",
     "output_type": "stream",
     "text": [
      "(785133, 23)\n"
     ]
    }
   ],
   "source": [
    "print(x_train_df.shape)"
   ]
  },
  {
   "cell_type": "markdown",
   "metadata": {},
   "source": [
    "Checking null values in each column"
   ]
  },
  {
   "cell_type": "code",
   "execution_count": 5,
   "metadata": {},
   "outputs": [
    {
     "data": {
      "text/plain": [
       "ID               0\n",
       "Column0          9\n",
       "Column1          0\n",
       "Column2          0\n",
       "Column3     126303\n",
       "Column4     127710\n",
       "Column5     167180\n",
       "Column6       3850\n",
       "Column7          0\n",
       "Column8       3850\n",
       "Column9     732137\n",
       "Column10         0\n",
       "Column11         0\n",
       "Column12         0\n",
       "Column13         0\n",
       "Column14    365703\n",
       "Column15     16456\n",
       "Column16         0\n",
       "Column17         0\n",
       "Column18         0\n",
       "Column19         0\n",
       "Column20         0\n",
       "Column21         0\n",
       "dtype: int64"
      ]
     },
     "execution_count": 5,
     "metadata": {},
     "output_type": "execute_result"
    }
   ],
   "source": [
    "x_train_df.isnull().sum()"
   ]
  },
  {
   "cell_type": "markdown",
   "metadata": {},
   "source": [
    "Getting the info of the DataFrame"
   ]
  },
  {
   "cell_type": "code",
   "execution_count": 6,
   "metadata": {},
   "outputs": [
    {
     "name": "stdout",
     "output_type": "stream",
     "text": [
      "<class 'pandas.core.frame.DataFrame'>\n",
      "RangeIndex: 785133 entries, 0 to 785132\n",
      "Data columns (total 23 columns):\n",
      " #   Column    Non-Null Count   Dtype  \n",
      "---  ------    --------------   -----  \n",
      " 0   ID        785133 non-null  object \n",
      " 1   Column0   785124 non-null  float64\n",
      " 2   Column1   785133 non-null  int64  \n",
      " 3   Column2   785133 non-null  float64\n",
      " 4   Column3   658830 non-null  float64\n",
      " 5   Column4   657423 non-null  float64\n",
      " 6   Column5   617953 non-null  float64\n",
      " 7   Column6   781283 non-null  float64\n",
      " 8   Column7   785133 non-null  float64\n",
      " 9   Column8   781283 non-null  float64\n",
      " 10  Column9   52996 non-null   float64\n",
      " 11  Column10  785133 non-null  int64  \n",
      " 12  Column11  785133 non-null  int64  \n",
      " 13  Column12  785133 non-null  int64  \n",
      " 14  Column13  785133 non-null  int64  \n",
      " 15  Column14  419430 non-null  float64\n",
      " 16  Column15  768677 non-null  float64\n",
      " 17  Column16  785133 non-null  float64\n",
      " 18  Column17  785133 non-null  int64  \n",
      " 19  Column18  785133 non-null  float64\n",
      " 20  Column19  785133 non-null  int64  \n",
      " 21  Column20  785133 non-null  int64  \n",
      " 22  Column21  785133 non-null  int64  \n",
      "dtypes: float64(13), int64(9), object(1)\n",
      "memory usage: 137.8+ MB\n"
     ]
    }
   ],
   "source": [
    "x_train_df.info()"
   ]
  },
  {
   "cell_type": "markdown",
   "metadata": {},
   "source": [
    "checking percentage of null in columns"
   ]
  },
  {
   "cell_type": "code",
   "execution_count": 7,
   "metadata": {},
   "outputs": [
    {
     "data": {
      "text/plain": [
       "16.086828601014098"
      ]
     },
     "execution_count": 7,
     "metadata": {},
     "output_type": "execute_result"
    }
   ],
   "source": [
    "null_count = x_train_df['Column3'].isnull().sum()\n",
    "null_percentage = (null_count / len(x_train_df)) * 100\n",
    "null_percentage"
   ]
  },
  {
   "cell_type": "code",
   "execution_count": 8,
   "metadata": {},
   "outputs": [
    {
     "data": {
      "text/plain": [
       "16.266033907630938"
      ]
     },
     "execution_count": 8,
     "metadata": {},
     "output_type": "execute_result"
    }
   ],
   "source": [
    "null_count = x_train_df['Column4'].isnull().sum()\n",
    "null_percentage = (null_count / len(x_train_df)) * 100\n",
    "null_percentage"
   ]
  },
  {
   "cell_type": "code",
   "execution_count": 9,
   "metadata": {},
   "outputs": [
    {
     "data": {
      "text/plain": [
       "21.293207647621486"
      ]
     },
     "execution_count": 9,
     "metadata": {},
     "output_type": "execute_result"
    }
   ],
   "source": [
    "null_count = x_train_df['Column5'].isnull().sum()\n",
    "null_percentage = (null_count / len(x_train_df)) * 100\n",
    "null_percentage"
   ]
  },
  {
   "cell_type": "code",
   "execution_count": 10,
   "metadata": {},
   "outputs": [
    {
     "data": {
      "text/plain": [
       "0.49036277929981287"
      ]
     },
     "execution_count": 10,
     "metadata": {},
     "output_type": "execute_result"
    }
   ],
   "source": [
    "null_count = x_train_df['Column6'].isnull().sum()\n",
    "null_percentage = (null_count / len(x_train_df)) * 100\n",
    "null_percentage"
   ]
  },
  {
   "cell_type": "code",
   "execution_count": 11,
   "metadata": {},
   "outputs": [
    {
     "data": {
      "text/plain": [
       "0.49036277929981287"
      ]
     },
     "execution_count": 11,
     "metadata": {},
     "output_type": "execute_result"
    }
   ],
   "source": [
    "null_count = x_train_df['Column8'].isnull().sum()\n",
    "null_percentage = (null_count / len(x_train_df)) * 100\n",
    "null_percentage"
   ]
  },
  {
   "cell_type": "code",
   "execution_count": 12,
   "metadata": {},
   "outputs": [
    {
     "data": {
      "text/plain": [
       "93.25006081772132"
      ]
     },
     "execution_count": 12,
     "metadata": {},
     "output_type": "execute_result"
    }
   ],
   "source": [
    "null_count = x_train_df['Column9'].isnull().sum()\n",
    "null_percentage = (null_count / len(x_train_df)) * 100\n",
    "null_percentage"
   ]
  },
  {
   "cell_type": "code",
   "execution_count": 13,
   "metadata": {},
   "outputs": [
    {
     "data": {
      "text/plain": [
       "46.5784777865661"
      ]
     },
     "execution_count": 13,
     "metadata": {},
     "output_type": "execute_result"
    }
   ],
   "source": [
    "null_count = x_train_df['Column14'].isnull().sum()\n",
    "null_percentage = (null_count / len(x_train_df)) * 100\n",
    "null_percentage"
   ]
  },
  {
   "cell_type": "code",
   "execution_count": 14,
   "metadata": {},
   "outputs": [
    {
     "data": {
      "text/plain": [
       "2.095950622378629"
      ]
     },
     "execution_count": 14,
     "metadata": {},
     "output_type": "execute_result"
    }
   ],
   "source": [
    "null_count = x_train_df['Column15'].isnull().sum()\n",
    "null_percentage = (null_count / len(x_train_df)) * 100\n",
    "null_percentage"
   ]
  },
  {
   "cell_type": "markdown",
   "metadata": {},
   "source": [
    "Cleaning the Dataframe"
   ]
  },
  {
   "cell_type": "code",
   "execution_count": 15,
   "metadata": {},
   "outputs": [],
   "source": [
    "x_train_df = x_train_df.drop(columns=['Column9'])"
   ]
  },
  {
   "cell_type": "code",
   "execution_count": 23,
   "metadata": {},
   "outputs": [],
   "source": [
    "x_train_df['Column0']=x_train_df['Column0'].interpolate()\n",
    "x_train_df['Column3']=x_train_df['Column3'].interpolate()\n",
    "x_train_df['Column4']=x_train_df['Column4'].interpolate()\n",
    "x_train_df['Column5']=x_train_df['Column4'].interpolate()\n",
    "x_train_df['Column6']=x_train_df['Column4'].interpolate()\n",
    "x_train_df['Column8']=x_train_df['Column4'].interpolate()\n",
    "x_train_df['Column14']=x_train_df['Column4'].interpolate()\n",
    "x_train_df['Column15']=x_train_df['Column4'].interpolate()"
   ]
  },
  {
   "cell_type": "code",
   "execution_count": 24,
   "metadata": {},
   "outputs": [
    {
     "data": {
      "text/plain": [
       "ID          0\n",
       "Column0     0\n",
       "Column1     0\n",
       "Column2     0\n",
       "Column3     0\n",
       "Column4     0\n",
       "Column5     0\n",
       "Column6     0\n",
       "Column7     0\n",
       "Column8     0\n",
       "Column10    0\n",
       "Column11    0\n",
       "Column12    0\n",
       "Column13    0\n",
       "Column14    0\n",
       "Column15    0\n",
       "Column16    0\n",
       "Column17    0\n",
       "Column18    0\n",
       "Column19    0\n",
       "Column20    0\n",
       "Column21    0\n",
       "dtype: int64"
      ]
     },
     "execution_count": 24,
     "metadata": {},
     "output_type": "execute_result"
    }
   ],
   "source": [
    "x_train_df.isna().sum()"
   ]
  },
  {
   "cell_type": "code",
   "execution_count": null,
   "metadata": {},
   "outputs": [],
   "source": []
  }
 ],
 "metadata": {
  "kernelspec": {
   "display_name": "Python 3 (ipykernel)",
   "language": "python",
   "name": "python3"
  },
  "language_info": {
   "codemirror_mode": {
    "name": "ipython",
    "version": 3
   },
   "file_extension": ".py",
   "mimetype": "text/x-python",
   "name": "python",
   "nbconvert_exporter": "python",
   "pygments_lexer": "ipython3",
   "version": "3.12.4"
  }
 },
 "nbformat": 4,
 "nbformat_minor": 4
}
